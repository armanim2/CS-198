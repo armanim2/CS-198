{
 "cells": [
  {
   "cell_type": "markdown",
   "id": "bab06932",
   "metadata": {},
   "source": [
    "# Stat 198: Introduction to Quantitative Finance DeCal\n",
    "\n",
    "Stat 198 is hosted by [Traders at Berkeley](https://traders.berkeley.edu/). \n",
    "\n",
    "Course Website: [https://traders.berkeley.edu/education](https://traders.berkeley.edu/education.html)"
   ]
  },
  {
   "cell_type": "markdown",
   "id": "edb76468",
   "metadata": {},
   "source": [
    "# Homework #0"
   ]
  },
  {
   "cell_type": "markdown",
   "id": "33465889",
   "metadata": {},
   "source": [
    "The first homework is to make sure you are up to speed with the tools necessary to complete future homeworks/project.\n",
    "\n",
    "More information on the necessary tools is available [here](https://docs.google.com/document/d/15RrRBhsXgoGdq_egw0w1DwQrXmHMmzAFdPSdA4bBuj0/edit).\n",
    "\n",
    "You are free to use any IDE of your choice, but our homework will primarily be in a Jupyter Notebook format.\n",
    "\n",
    "**Learning Objectives:**\n",
    "\n",
    "- Package Downloads\n",
    "- Pandas and NumPy Review\n",
    "- Data Visualization Review\n",
    "\n",
    "**Helpful References**\n",
    "- The Data 100 reference sheet (mainly first page): https://ds100.org/su22/resources/assets/exams/su22/su22_final_reference_sheet.pdf\n",
    "- Pandas documentation: https://pandas.pydata.org/docs/\n",
    "- NumPy documentation: https://numpy.org/doc/\n",
    "- Matplotlib documentation: https://matplotlib.org/stable/index.html"
   ]
  },
  {
   "cell_type": "markdown",
   "id": "26c2f2c0",
   "metadata": {},
   "source": [
    "##  Package Downloads\n",
    "This is to check if you have all the necessary packages installed. Please install numpy, pandas, scikit-learn, statsmodels, and matplotlib. Run all of the commands below to make sure your packages are installed."
   ]
  },
  {
   "cell_type": "code",
   "execution_count": 1,
   "id": "2f55a3d1",
   "metadata": {},
   "outputs": [
    {
     "name": "stdout",
     "output_type": "stream",
     "text": [
      "Name: numpy\r\n",
      "Version: 1.21.5\r\n",
      "Summary: NumPy is the fundamental package for array computing with Python.\r\n",
      "Home-page: https://www.numpy.org\r\n",
      "Author: Travis E. Oliphant et al.\r\n",
      "Author-email: \r\n",
      "License: BSD\r\n",
      "Location: /Users/work/opt/anaconda3/lib/python3.9/site-packages\r\n",
      "Requires: \r\n",
      "Required-by: astropy, bkcharts, bokeh, Bottleneck, daal4py, datashader, datashape, gensim, h5py, holoviews, hvplot, imagecodecs, imageio, matplotlib, mkl-fft, mkl-random, numba, numexpr, pandas, patsy, pyerfa, PyWavelets, scikit-image, scikit-learn, scipy, seaborn, statsmodels, tables, tifffile, xarray, yfinance\r\n"
     ]
    }
   ],
   "source": [
    "!pip show numpy"
   ]
  },
  {
   "cell_type": "code",
   "execution_count": 2,
   "id": "c5d3c108",
   "metadata": {},
   "outputs": [
    {
     "name": "stdout",
     "output_type": "stream",
     "text": [
      "Name: pandas\r\n",
      "Version: 1.4.4\r\n",
      "Summary: Powerful data structures for data analysis, time series, and statistics\r\n",
      "Home-page: https://pandas.pydata.org\r\n",
      "Author: The Pandas Development Team\r\n",
      "Author-email: pandas-dev@python.org\r\n",
      "License: BSD-3-Clause\r\n",
      "Location: /Users/work/opt/anaconda3/lib/python3.9/site-packages\r\n",
      "Requires: numpy, python-dateutil, pytz\r\n",
      "Required-by: datashader, holoviews, hvplot, seaborn, statsmodels, xarray, yfinance\r\n"
     ]
    }
   ],
   "source": [
    "!pip show pandas"
   ]
  },
  {
   "cell_type": "code",
   "execution_count": 3,
   "id": "8f2928ea",
   "metadata": {},
   "outputs": [
    {
     "name": "stdout",
     "output_type": "stream",
     "text": [
      "Name: scikit-learn\r\n",
      "Version: 1.0.2\r\n",
      "Summary: A set of python modules for machine learning and data mining\r\n",
      "Home-page: http://scikit-learn.org\r\n",
      "Author: \r\n",
      "Author-email: \r\n",
      "License: new BSD\r\n",
      "Location: /Users/work/opt/anaconda3/lib/python3.9/site-packages\r\n",
      "Requires: joblib, numpy, scipy, threadpoolctl\r\n",
      "Required-by: scikit-learn-intelex\r\n"
     ]
    }
   ],
   "source": [
    "!pip show scikit-learn"
   ]
  },
  {
   "cell_type": "code",
   "execution_count": 4,
   "id": "ea34dccd",
   "metadata": {},
   "outputs": [
    {
     "name": "stdout",
     "output_type": "stream",
     "text": [
      "Name: statsmodels\r\n",
      "Version: 0.13.2\r\n",
      "Summary: Statistical computations and models for Python\r\n",
      "Home-page: https://www.statsmodels.org/\r\n",
      "Author: \r\n",
      "Author-email: \r\n",
      "License: BSD License\r\n",
      "Location: /Users/work/opt/anaconda3/lib/python3.9/site-packages\r\n",
      "Requires: numpy, packaging, pandas, patsy, scipy\r\n",
      "Required-by: \r\n"
     ]
    }
   ],
   "source": [
    "!pip show statsmodels"
   ]
  },
  {
   "cell_type": "code",
   "execution_count": 5,
   "id": "2b7a8c72",
   "metadata": {},
   "outputs": [
    {
     "name": "stdout",
     "output_type": "stream",
     "text": [
      "Name: matplotlib\r\n",
      "Version: 3.5.2\r\n",
      "Summary: Python plotting package\r\n",
      "Home-page: https://matplotlib.org\r\n",
      "Author: John D. Hunter, Michael Droettboom\r\n",
      "Author-email: matplotlib-users@python.org\r\n",
      "License: PSF\r\n",
      "Location: /Users/work/opt/anaconda3/lib/python3.9/site-packages\r\n",
      "Requires: cycler, fonttools, kiwisolver, numpy, packaging, pillow, pyparsing, python-dateutil\r\n",
      "Required-by: seaborn\r\n"
     ]
    }
   ],
   "source": [
    "!pip show matplotlib"
   ]
  },
  {
   "cell_type": "markdown",
   "id": "f79bb344",
   "metadata": {},
   "source": [
    "### Questions\n",
    "These questions are for you to learn about some basics of the above packages. If you aren't familiar with them, search them up!\n",
    "\n",
    "#### 1.1 What is numpy used for?\n",
    "The numpy libarary is used for performing mathematical operations on arrays and matrices\n",
    "\n",
    "#### 1.2 What is pandas used for?\n",
    "Pandas, which is built on top of numpy, is a data analysis library that can also be used for cleaning and filtering data. \n",
    "\n",
    "#### 1.3 What is scikit-learn used for?\n",
    "Scikit-Learn, aka sklearn, is a machine learning library built on matplotlib and numpy.\n",
    "\n",
    "#### 1.4 What is statsmodels used for?\n",
    "Statsmodels surprisingly is used for statistical models. It can be used for linear regressions and statistical summaries.\n",
    "\n",
    "#### 1.5 What is matplotlib used for?\n",
    "Matplot lib is a library utilized to create visuals, diagrams, and models. These include barplots, histograms, scatterplots, piecharts, and more."
   ]
  },
  {
   "cell_type": "markdown",
   "id": "cbc0f57f",
   "metadata": {},
   "source": [
    "## NumPy Review\n",
    "Numpy is used for large, multi-dimensional arrays and matrices. They also support a large collection of high-level mathematical functions that can be used on these (including Fourier transforms, if you learned about it in CS170!).\n",
    "\n",
    "**First, import the package.**"
   ]
  },
  {
   "cell_type": "code",
   "execution_count": 6,
   "id": "bf042d7f",
   "metadata": {},
   "outputs": [],
   "source": [
    "import numpy as np"
   ]
  },
  {
   "cell_type": "markdown",
   "id": "41ceac61",
   "metadata": {},
   "source": [
    "There are a lot of useful functions and ways to use NumPy but we'll only be covering the very basic few. You can explore more [here](https://numpy.org/doc/stable/user/absolute_beginners.html)!\n",
    "\n",
    "First, we will just cover the basics of NumPy."
   ]
  },
  {
   "cell_type": "code",
   "execution_count": 7,
   "id": "30e1e8e3",
   "metadata": {},
   "outputs": [
    {
     "data": {
      "text/plain": [
       "array([ 2,  5,  8, 11, 14, 17])"
      ]
     },
     "execution_count": 7,
     "metadata": {},
     "output_type": "execute_result"
    }
   ],
   "source": [
    "# Create an array with a range where the parameters are first number, last number, and step size.\n",
    "np.arange(2, 20, 3)"
   ]
  },
  {
   "cell_type": "code",
   "execution_count": 8,
   "id": "c727ca8c",
   "metadata": {},
   "outputs": [
    {
     "data": {
      "text/plain": [
       "array([0., 0., 0., 0., 0.])"
      ]
     },
     "execution_count": 8,
     "metadata": {},
     "output_type": "execute_result"
    }
   ],
   "source": [
    "# Create an array of length 5 filled with 0s\n",
    "np.zeros(5)"
   ]
  },
  {
   "cell_type": "code",
   "execution_count": 9,
   "id": "44b7f1ec",
   "metadata": {},
   "outputs": [
    {
     "data": {
      "text/plain": [
       "array([1, 2, 3, 4])"
      ]
     },
     "execution_count": 9,
     "metadata": {},
     "output_type": "execute_result"
    }
   ],
   "source": [
    "# Create a numpy array\n",
    "np.array([1, 2, 3, 4])"
   ]
  },
  {
   "cell_type": "code",
   "execution_count": 10,
   "id": "fd9a1581",
   "metadata": {},
   "outputs": [
    {
     "data": {
      "text/plain": [
       "array([1, 2, 3, 4, 5, 6, 7])"
      ]
     },
     "execution_count": 10,
     "metadata": {},
     "output_type": "execute_result"
    }
   ],
   "source": [
    "# Sort number arrays in ascending order\n",
    "np.sort([4, 3, 1, 2, 5, 6, 7])"
   ]
  },
  {
   "cell_type": "code",
   "execution_count": 11,
   "id": "08b28e61",
   "metadata": {},
   "outputs": [
    {
     "data": {
      "text/plain": [
       "array([[1, 2],\n",
       "       [3, 4],\n",
       "       [5, 6]])"
      ]
     },
     "execution_count": 11,
     "metadata": {},
     "output_type": "execute_result"
    }
   ],
   "source": [
    "# Concatenate two arrays\n",
    "np.concatenate(([1, 2, 3, 4], [5, 6, 7, 8]))\n",
    "np.concatenate(([[1, 2], [3, 4]], [[5, 6]]), axis = 0)"
   ]
  },
  {
   "cell_type": "code",
   "execution_count": 12,
   "id": "5f1591e5",
   "metadata": {},
   "outputs": [
    {
     "name": "stdout",
     "output_type": "stream",
     "text": [
      "Dimension of the array: 2\n",
      "Total number of elements in the array: 6\n",
      "Shape of the array: (3, 2)\n"
     ]
    }
   ],
   "source": [
    "# Finding dimensions of the array\n",
    "array = np.concatenate(([[1, 2], [3, 4]], [[5, 6]]), axis = 0)\n",
    "print(f\"Dimension of the array: {array.ndim}\")\n",
    "print(f\"Total number of elements in the array: {array.size}\")\n",
    "print(f\"Shape of the array: {array.shape}\")"
   ]
  },
  {
   "cell_type": "code",
   "execution_count": 13,
   "id": "6ba8cd70",
   "metadata": {},
   "outputs": [
    {
     "data": {
      "text/plain": [
       "array([[0, 1],\n",
       "       [2, 3],\n",
       "       [4, 5],\n",
       "       [6, 7],\n",
       "       [8, 9]])"
      ]
     },
     "execution_count": 13,
     "metadata": {},
     "output_type": "execute_result"
    }
   ],
   "source": [
    "# Re-shaping Array\n",
    "a = np.arange(10)\n",
    "b = a.reshape(5, 2)\n",
    "b"
   ]
  },
  {
   "cell_type": "code",
   "execution_count": 14,
   "id": "b3072296",
   "metadata": {},
   "outputs": [
    {
     "name": "stdout",
     "output_type": "stream",
     "text": [
      "Should print 2: 2\n",
      "Should print array([2, 3, 4]): [2 3 4]\n"
     ]
    }
   ],
   "source": [
    "# Indexing works same as a regular array\n",
    "a = np.array([1, 2, 3, 4])\n",
    "print(f\"Should print 2: {a[1]}\")\n",
    "print(f\"Should print array([2, 3, 4]): {a[1:]}\")"
   ]
  },
  {
   "cell_type": "markdown",
   "id": "a72db569",
   "metadata": {},
   "source": [
    "**Q1. Use a NumPy function other than `np.array` to create an array of length 7 filled with 1s.**"
   ]
  },
  {
   "cell_type": "code",
   "execution_count": 15,
   "id": "8f37c50d",
   "metadata": {},
   "outputs": [
    {
     "data": {
      "text/plain": [
       "array([1., 1., 1., 1., 1., 1., 1.])"
      ]
     },
     "execution_count": 15,
     "metadata": {},
     "output_type": "execute_result"
    }
   ],
   "source": [
    "np.ones([7])"
   ]
  },
  {
   "cell_type": "markdown",
   "id": "1a74befa",
   "metadata": {},
   "source": [
    "**Q2. Use a NumPy function other than `np.arange` to create an array of length 10 with values that are spaced linearly from 12 to 202.**"
   ]
  },
  {
   "cell_type": "code",
   "execution_count": 16,
   "id": "becb3c76",
   "metadata": {},
   "outputs": [
    {
     "data": {
      "text/plain": [
       "array([ 12.        ,  33.11111111,  54.22222222,  75.33333333,\n",
       "        96.44444444, 117.55555556, 138.66666667, 159.77777778,\n",
       "       180.88888889, 202.        ])"
      ]
     },
     "execution_count": 16,
     "metadata": {},
     "output_type": "execute_result"
    }
   ],
   "source": [
    "np.linspace(12, 202, 10)"
   ]
  },
  {
   "cell_type": "markdown",
   "id": "849d9631",
   "metadata": {},
   "source": [
    "**Q3. Use `np.sort` to sort the number array below in descending order**"
   ]
  },
  {
   "cell_type": "code",
   "execution_count": 17,
   "id": "657ea13a",
   "metadata": {},
   "outputs": [
    {
     "data": {
      "text/plain": [
       "array([8, 7, 6, 5, 4, 3, 2, 1])"
      ]
     },
     "execution_count": 17,
     "metadata": {},
     "output_type": "execute_result"
    }
   ],
   "source": [
    "array = [5, 4, 6, 2, 3, 8, 1, 7]\n",
    "np.sort(array)[::-1]"
   ]
  },
  {
   "cell_type": "markdown",
   "id": "69a86c7b",
   "metadata": {},
   "source": [
    "**Q4. Use boolean indexing to select numbers that are greater than 3 in the given array.**"
   ]
  },
  {
   "cell_type": "code",
   "execution_count": 18,
   "id": "a97c1c9d",
   "metadata": {},
   "outputs": [
    {
     "name": "stdout",
     "output_type": "stream",
     "text": [
      "[ 4  5  6  7  8  7  8  9 10]\n"
     ]
    }
   ],
   "source": [
    "array = np.array([[1, 2, 3, 4], [5, 6, 7, 8], [7, 8, 9, 10]], dtype=int)\n",
    "boolindexing = array > 3\n",
    "modified = array[boolindexing]\n",
    "print(modified)"
   ]
  },
  {
   "cell_type": "markdown",
   "id": "c2b7634e",
   "metadata": {},
   "source": [
    "**Q5. Use a NumPy function to create an array of length 5 with random numbers between 0 and 1.**"
   ]
  },
  {
   "cell_type": "code",
   "execution_count": 19,
   "id": "e2177557",
   "metadata": {},
   "outputs": [
    {
     "name": "stdout",
     "output_type": "stream",
     "text": [
      "[0.51130713 0.16461424 0.46375124 0.36331391 0.53074949]\n"
     ]
    }
   ],
   "source": [
    "array = np.random.rand(5)\n",
    "print(array)"
   ]
  },
  {
   "cell_type": "markdown",
   "id": "1392cae5",
   "metadata": {},
   "source": [
    "In the following section, we will take a look at NumPy operations."
   ]
  },
  {
   "cell_type": "code",
   "execution_count": 20,
   "id": "4cd55b48",
   "metadata": {},
   "outputs": [
    {
     "name": "stdout",
     "output_type": "stream",
     "text": [
      "Add arrays a and b: [2. 3. 4.]\n",
      "Multiply arrays a and a: [1 4 9]\n"
     ]
    }
   ],
   "source": [
    "# Add 2 equal size arrays\n",
    "a = np.array([1, 2, 3])\n",
    "b = np.ones(3)\n",
    "print(f\"Add arrays a and b: {a + b}\")\n",
    "print(f\"Multiply arrays a and a: {a * a}\")"
   ]
  },
  {
   "cell_type": "code",
   "execution_count": 21,
   "id": "b88541fb",
   "metadata": {},
   "outputs": [
    {
     "name": "stdout",
     "output_type": "stream",
     "text": [
      "Multiply 2 to array a: [2 4 6]\n"
     ]
    }
   ],
   "source": [
    "# Multiplying a constant to an array performs action on all the elements\n",
    "print(f\"Multiply 2 to array a: {2*a}\")"
   ]
  },
  {
   "cell_type": "code",
   "execution_count": 22,
   "id": "1787b5b9",
   "metadata": {},
   "outputs": [
    {
     "name": "stdout",
     "output_type": "stream",
     "text": [
      "Max of array a: 3\n",
      "Min of array a: 1\n",
      "Sum of array a: 6\n"
     ]
    }
   ],
   "source": [
    "# More array operations\n",
    "print(f\"Max of array a: {a.max()}\")\n",
    "print(f\"Min of array a: {a.min()}\")\n",
    "print(f\"Sum of array a: {a.sum()}\")"
   ]
  },
  {
   "cell_type": "code",
   "execution_count": 23,
   "id": "e3320e72",
   "metadata": {},
   "outputs": [
    {
     "name": "stdout",
     "output_type": "stream",
     "text": [
      "Unique values in array c: [1 2 3 4 5]\n"
     ]
    }
   ],
   "source": [
    "# Unique values in array\n",
    "c = np.array([1, 2, 1, 2, 4, 5, 3])\n",
    "print(f\"Unique values in array c: {np.unique(c)}\")"
   ]
  },
  {
   "cell_type": "markdown",
   "id": "5bb16fd1",
   "metadata": {},
   "source": [
    "**Q1. What is the resulting array of a - b?**"
   ]
  },
  {
   "cell_type": "code",
   "execution_count": 24,
   "id": "6edaac10",
   "metadata": {},
   "outputs": [
    {
     "name": "stdout",
     "output_type": "stream",
     "text": [
      "[0. 1. 2.]\n"
     ]
    }
   ],
   "source": [
    "print(f\"{a - b}\")"
   ]
  },
  {
   "cell_type": "markdown",
   "id": "3d94df62",
   "metadata": {},
   "source": [
    "**Q2. What is the value of the sum of the minimum elements of array a and b?**"
   ]
  },
  {
   "cell_type": "code",
   "execution_count": 25,
   "id": "d2e2e8e5",
   "metadata": {},
   "outputs": [
    {
     "name": "stdout",
     "output_type": "stream",
     "text": [
      "2.0\n"
     ]
    }
   ],
   "source": [
    "minsum = np.min(a) + np.min(b)\n",
    "print(minsum)"
   ]
  },
  {
   "cell_type": "markdown",
   "id": "def670ac",
   "metadata": {},
   "source": [
    "**Q3. What is the value of the maximum element of the array a + b?**"
   ]
  },
  {
   "cell_type": "code",
   "execution_count": 26,
   "id": "e6795498",
   "metadata": {},
   "outputs": [
    {
     "name": "stdout",
     "output_type": "stream",
     "text": [
      "4.0\n"
     ]
    }
   ],
   "source": [
    "maxsum = np.max(a) + np.max(b)\n",
    "print(maxsum)"
   ]
  },
  {
   "cell_type": "markdown",
   "id": "b5607e17",
   "metadata": {},
   "source": [
    "**Q4. How many unique values are in the array below?**"
   ]
  },
  {
   "cell_type": "code",
   "execution_count": 27,
   "id": "c7c09240",
   "metadata": {},
   "outputs": [
    {
     "data": {
      "text/plain": [
       "92"
      ]
     },
     "execution_count": 27,
     "metadata": {},
     "output_type": "execute_result"
    }
   ],
   "source": [
    "arr = np.round(np.random.random_sample(250), 2)\n",
    "len(np.unique(arr))"
   ]
  },
  {
   "cell_type": "markdown",
   "id": "3cefc2a2",
   "metadata": {},
   "source": [
    "## Pandas Review\n",
    "In this section, you will learn the basics of pandas and numpy. Hopefully you will have a good understanding of how to use these packages by the end!\n",
    "\n",
    "### DataFrames\n",
    "DataFrames are basically a table where each column has a specific data type and there's also an index over the columns and rows (multi-index is possible!).\n",
    "\n",
    "In the future, you will use `pd.read_csv` to read in data.\n",
    "\n",
    "Here, we will just learn how to create a basic DataFrame.\n",
    "\n",
    "#### First, let's import the necessary packages."
   ]
  },
  {
   "cell_type": "code",
   "execution_count": 28,
   "id": "2e86ce9d",
   "metadata": {},
   "outputs": [],
   "source": [
    "import pandas as pd"
   ]
  },
  {
   "cell_type": "markdown",
   "id": "547c49be",
   "metadata": {},
   "source": [
    "#### Creating DataFrame by Columns"
   ]
  },
  {
   "cell_type": "code",
   "execution_count": 29,
   "id": "96da6539",
   "metadata": {},
   "outputs": [
    {
     "data": {
      "text/html": [
       "<div>\n",
       "<style scoped>\n",
       "    .dataframe tbody tr th:only-of-type {\n",
       "        vertical-align: middle;\n",
       "    }\n",
       "\n",
       "    .dataframe tbody tr th {\n",
       "        vertical-align: top;\n",
       "    }\n",
       "\n",
       "    .dataframe thead th {\n",
       "        text-align: right;\n",
       "    }\n",
       "</style>\n",
       "<table border=\"1\" class=\"dataframe\">\n",
       "  <thead>\n",
       "    <tr style=\"text-align: right;\">\n",
       "      <th></th>\n",
       "      <th>0</th>\n",
       "      <th>1</th>\n",
       "      <th>2</th>\n",
       "    </tr>\n",
       "  </thead>\n",
       "  <tbody>\n",
       "    <tr>\n",
       "      <th>0</th>\n",
       "      <td>Alex</td>\n",
       "      <td>1</td>\n",
       "      <td>CS</td>\n",
       "    </tr>\n",
       "    <tr>\n",
       "      <th>1</th>\n",
       "      <td>Ben</td>\n",
       "      <td>1</td>\n",
       "      <td>Math</td>\n",
       "    </tr>\n",
       "    <tr>\n",
       "      <th>2</th>\n",
       "      <td>Charlie</td>\n",
       "      <td>2</td>\n",
       "      <td>CS</td>\n",
       "    </tr>\n",
       "    <tr>\n",
       "      <th>3</th>\n",
       "      <td>David</td>\n",
       "      <td>3</td>\n",
       "      <td>Stats</td>\n",
       "    </tr>\n",
       "  </tbody>\n",
       "</table>\n",
       "</div>"
      ],
      "text/plain": [
       "         0  1      2\n",
       "0     Alex  1     CS\n",
       "1      Ben  1   Math\n",
       "2  Charlie  2     CS\n",
       "3    David  3  Stats"
      ]
     },
     "execution_count": 29,
     "metadata": {},
     "output_type": "execute_result"
    }
   ],
   "source": [
    "example_df = pd.DataFrame(\n",
    "    [ (\"Alex\", 1, \"CS\"), (\"Ben\", 1, \"Math\"), (\"Charlie\", 2, \"CS\"), (\"David\", 3, \"Stats\"),\n",
    "    ]\n",
    ")\n",
    "example_df"
   ]
  },
  {
   "cell_type": "markdown",
   "id": "c2f9073b",
   "metadata": {},
   "source": [
    "#### Creating DataFrame by Rows"
   ]
  },
  {
   "cell_type": "code",
   "execution_count": 30,
   "id": "06e298aa",
   "metadata": {},
   "outputs": [
    {
     "data": {
      "text/html": [
       "<div>\n",
       "<style scoped>\n",
       "    .dataframe tbody tr th:only-of-type {\n",
       "        vertical-align: middle;\n",
       "    }\n",
       "\n",
       "    .dataframe tbody tr th {\n",
       "        vertical-align: top;\n",
       "    }\n",
       "\n",
       "    .dataframe thead th {\n",
       "        text-align: right;\n",
       "    }\n",
       "</style>\n",
       "<table border=\"1\" class=\"dataframe\">\n",
       "  <thead>\n",
       "    <tr style=\"text-align: right;\">\n",
       "      <th></th>\n",
       "      <th>Student</th>\n",
       "      <th>Grade</th>\n",
       "      <th>Major</th>\n",
       "    </tr>\n",
       "  </thead>\n",
       "  <tbody>\n",
       "    <tr>\n",
       "      <th>0</th>\n",
       "      <td>Alex</td>\n",
       "      <td>1</td>\n",
       "      <td>CS</td>\n",
       "    </tr>\n",
       "    <tr>\n",
       "      <th>1</th>\n",
       "      <td>Ben</td>\n",
       "      <td>1</td>\n",
       "      <td>Math</td>\n",
       "    </tr>\n",
       "    <tr>\n",
       "      <th>2</th>\n",
       "      <td>Charlie</td>\n",
       "      <td>2</td>\n",
       "      <td>CS</td>\n",
       "    </tr>\n",
       "    <tr>\n",
       "      <th>3</th>\n",
       "      <td>David</td>\n",
       "      <td>3</td>\n",
       "      <td>Stats</td>\n",
       "    </tr>\n",
       "  </tbody>\n",
       "</table>\n",
       "</div>"
      ],
      "text/plain": [
       "   Student  Grade  Major\n",
       "0     Alex      1     CS\n",
       "1      Ben      1   Math\n",
       "2  Charlie      2     CS\n",
       "3    David      3  Stats"
      ]
     },
     "execution_count": 30,
     "metadata": {},
     "output_type": "execute_result"
    }
   ],
   "source": [
    "example_df = pd.DataFrame(\n",
    "    data = {\n",
    "        'Student': [\"Alex\", \"Ben\", \"Charlie\", \"David\"],\n",
    "        'Grade': [1, 1, 2, 3],\n",
    "        'Major': [\"CS\", \"Math\", \"CS\", \"Stats\"],\n",
    "    }\n",
    ")\n",
    "example_df"
   ]
  },
  {
   "cell_type": "markdown",
   "id": "d6f8f51e",
   "metadata": {},
   "source": [
    "There are useful tools such as `DataFrame.shape` which tells you the dimension of the DataFrame. More on these can be found [here](https://pandas.pydata.org/docs/reference/api/pandas.DataFrame.html)"
   ]
  },
  {
   "cell_type": "markdown",
   "id": "9afc4d47",
   "metadata": {},
   "source": [
    "#### Slicing\n",
    "There are 3 main ways to slice DataFrmaes: `loc`, `iloc`, and `[]`. `loc` takes in two arguments, row labels and column labels. `iloc` is similar to `loc` but it takes in row and column numbers instead of labels. `[]` is the more general operator.\n",
    "\n",
    "We will just see a brief example of how to use these 3."
   ]
  },
  {
   "cell_type": "code",
   "execution_count": 31,
   "id": "77541da1",
   "metadata": {},
   "outputs": [
    {
     "data": {
      "text/html": [
       "<div>\n",
       "<style scoped>\n",
       "    .dataframe tbody tr th:only-of-type {\n",
       "        vertical-align: middle;\n",
       "    }\n",
       "\n",
       "    .dataframe tbody tr th {\n",
       "        vertical-align: top;\n",
       "    }\n",
       "\n",
       "    .dataframe thead th {\n",
       "        text-align: right;\n",
       "    }\n",
       "</style>\n",
       "<table border=\"1\" class=\"dataframe\">\n",
       "  <thead>\n",
       "    <tr style=\"text-align: right;\">\n",
       "      <th></th>\n",
       "      <th>Student</th>\n",
       "      <th>Major</th>\n",
       "    </tr>\n",
       "  </thead>\n",
       "  <tbody>\n",
       "    <tr>\n",
       "      <th>0</th>\n",
       "      <td>Alex</td>\n",
       "      <td>CS</td>\n",
       "    </tr>\n",
       "    <tr>\n",
       "      <th>1</th>\n",
       "      <td>Ben</td>\n",
       "      <td>Math</td>\n",
       "    </tr>\n",
       "    <tr>\n",
       "      <th>2</th>\n",
       "      <td>Charlie</td>\n",
       "      <td>CS</td>\n",
       "    </tr>\n",
       "  </tbody>\n",
       "</table>\n",
       "</div>"
      ],
      "text/plain": [
       "   Student Major\n",
       "0     Alex    CS\n",
       "1      Ben  Math\n",
       "2  Charlie    CS"
      ]
     },
     "execution_count": 31,
     "metadata": {},
     "output_type": "execute_result"
    }
   ],
   "source": [
    "# get rows 0 through 2 and columns Student and Major\n",
    "example_df.loc[0:2, ['Student', 'Major']]"
   ]
  },
  {
   "cell_type": "code",
   "execution_count": 32,
   "id": "a73a651f",
   "metadata": {},
   "outputs": [
    {
     "data": {
      "text/html": [
       "<div>\n",
       "<style scoped>\n",
       "    .dataframe tbody tr th:only-of-type {\n",
       "        vertical-align: middle;\n",
       "    }\n",
       "\n",
       "    .dataframe tbody tr th {\n",
       "        vertical-align: top;\n",
       "    }\n",
       "\n",
       "    .dataframe thead th {\n",
       "        text-align: right;\n",
       "    }\n",
       "</style>\n",
       "<table border=\"1\" class=\"dataframe\">\n",
       "  <thead>\n",
       "    <tr style=\"text-align: right;\">\n",
       "      <th></th>\n",
       "      <th>Student</th>\n",
       "      <th>Grade</th>\n",
       "    </tr>\n",
       "  </thead>\n",
       "  <tbody>\n",
       "    <tr>\n",
       "      <th>0</th>\n",
       "      <td>Alex</td>\n",
       "      <td>1</td>\n",
       "    </tr>\n",
       "    <tr>\n",
       "      <th>3</th>\n",
       "      <td>David</td>\n",
       "      <td>3</td>\n",
       "    </tr>\n",
       "  </tbody>\n",
       "</table>\n",
       "</div>"
      ],
      "text/plain": [
       "  Student  Grade\n",
       "0    Alex      1\n",
       "3   David      3"
      ]
     },
     "execution_count": 32,
     "metadata": {},
     "output_type": "execute_result"
    }
   ],
   "source": [
    "# get rows 0 and 3 and columns 0 through 2 (exclusive)\n",
    "example_df.iloc[[0, 3], 0:2]"
   ]
  },
  {
   "cell_type": "code",
   "execution_count": 33,
   "id": "9002bc44",
   "metadata": {},
   "outputs": [
    {
     "data": {
      "text/html": [
       "<div>\n",
       "<style scoped>\n",
       "    .dataframe tbody tr th:only-of-type {\n",
       "        vertical-align: middle;\n",
       "    }\n",
       "\n",
       "    .dataframe tbody tr th {\n",
       "        vertical-align: top;\n",
       "    }\n",
       "\n",
       "    .dataframe thead th {\n",
       "        text-align: right;\n",
       "    }\n",
       "</style>\n",
       "<table border=\"1\" class=\"dataframe\">\n",
       "  <thead>\n",
       "    <tr style=\"text-align: right;\">\n",
       "      <th></th>\n",
       "      <th>Student</th>\n",
       "      <th>Grade</th>\n",
       "      <th>Major</th>\n",
       "    </tr>\n",
       "  </thead>\n",
       "  <tbody>\n",
       "    <tr>\n",
       "      <th>0</th>\n",
       "      <td>Alex</td>\n",
       "      <td>1</td>\n",
       "      <td>CS</td>\n",
       "    </tr>\n",
       "    <tr>\n",
       "      <th>1</th>\n",
       "      <td>Ben</td>\n",
       "      <td>1</td>\n",
       "      <td>Math</td>\n",
       "    </tr>\n",
       "    <tr>\n",
       "      <th>2</th>\n",
       "      <td>Charlie</td>\n",
       "      <td>2</td>\n",
       "      <td>CS</td>\n",
       "    </tr>\n",
       "  </tbody>\n",
       "</table>\n",
       "</div>"
      ],
      "text/plain": [
       "   Student  Grade Major\n",
       "0     Alex      1    CS\n",
       "1      Ben      1  Math\n",
       "2  Charlie      2    CS"
      ]
     },
     "execution_count": 33,
     "metadata": {},
     "output_type": "execute_result"
    }
   ],
   "source": [
    "# get rows 0 through 3 (exclusive)\n",
    "example_df[0:3]"
   ]
  },
  {
   "cell_type": "markdown",
   "id": "6181670f",
   "metadata": {},
   "source": [
    "#### Q1. Create a sample DataFrame with at least 5 rows and columns and display the original DataFrame"
   ]
  },
  {
   "cell_type": "code",
   "execution_count": 34,
   "id": "e452e6d4",
   "metadata": {},
   "outputs": [
    {
     "data": {
      "text/html": [
       "<div>\n",
       "<style scoped>\n",
       "    .dataframe tbody tr th:only-of-type {\n",
       "        vertical-align: middle;\n",
       "    }\n",
       "\n",
       "    .dataframe tbody tr th {\n",
       "        vertical-align: top;\n",
       "    }\n",
       "\n",
       "    .dataframe thead th {\n",
       "        text-align: right;\n",
       "    }\n",
       "</style>\n",
       "<table border=\"1\" class=\"dataframe\">\n",
       "  <thead>\n",
       "    <tr style=\"text-align: right;\">\n",
       "      <th></th>\n",
       "      <th>Student</th>\n",
       "      <th>Grade</th>\n",
       "      <th>Major</th>\n",
       "      <th>Student Debt</th>\n",
       "      <th>GPA</th>\n",
       "    </tr>\n",
       "  </thead>\n",
       "  <tbody>\n",
       "    <tr>\n",
       "      <th>0</th>\n",
       "      <td>Alex</td>\n",
       "      <td>1</td>\n",
       "      <td>CS</td>\n",
       "      <td>6500</td>\n",
       "      <td>3.9</td>\n",
       "    </tr>\n",
       "    <tr>\n",
       "      <th>1</th>\n",
       "      <td>Ben</td>\n",
       "      <td>1</td>\n",
       "      <td>Math</td>\n",
       "      <td>80000</td>\n",
       "      <td>3.6</td>\n",
       "    </tr>\n",
       "    <tr>\n",
       "      <th>2</th>\n",
       "      <td>Charlie</td>\n",
       "      <td>2</td>\n",
       "      <td>CS</td>\n",
       "      <td>20000</td>\n",
       "      <td>4.0</td>\n",
       "    </tr>\n",
       "    <tr>\n",
       "      <th>3</th>\n",
       "      <td>David</td>\n",
       "      <td>3</td>\n",
       "      <td>Stats</td>\n",
       "      <td>5</td>\n",
       "      <td>3.8</td>\n",
       "    </tr>\n",
       "    <tr>\n",
       "      <th>4</th>\n",
       "      <td>Eduardo</td>\n",
       "      <td>4</td>\n",
       "      <td>Gender Studies</td>\n",
       "      <td>142000</td>\n",
       "      <td>1.2</td>\n",
       "    </tr>\n",
       "  </tbody>\n",
       "</table>\n",
       "</div>"
      ],
      "text/plain": [
       "   Student  Grade           Major  Student Debt  GPA\n",
       "0     Alex      1              CS          6500  3.9\n",
       "1      Ben      1            Math         80000  3.6\n",
       "2  Charlie      2              CS         20000  4.0\n",
       "3    David      3           Stats             5  3.8\n",
       "4  Eduardo      4  Gender Studies        142000  1.2"
      ]
     },
     "execution_count": 34,
     "metadata": {},
     "output_type": "execute_result"
    }
   ],
   "source": [
    "df = pd.DataFrame(\n",
    "    data = {\n",
    "        'Student': [\"Alex\", \"Ben\", \"Charlie\", \"David\", \"Eduardo\"],\n",
    "        'Grade': [1, 1, 2, 3, 4],\n",
    "        'Major': [\"CS\", \"Math\", \"CS\", \"Stats\", \"Gender Studies\"],\n",
    "        'Student Debt': [6500, 80000, 20000, 5, 142000],\n",
    "        'GPA': [\"3.9\", \"3.6\", \"4.0\", \"3.8\", \"1.2\"],\n",
    "    }\n",
    ")\n",
    "df"
   ]
  },
  {
   "cell_type": "markdown",
   "id": "8292c37b",
   "metadata": {},
   "source": [
    "#### Q2. Display the DataFrame above but with just the rows 1 through 3 and columns 2 and 4 (0-indexed)"
   ]
  },
  {
   "cell_type": "code",
   "execution_count": 35,
   "id": "dee5336d",
   "metadata": {},
   "outputs": [
    {
     "data": {
      "text/html": [
       "<div>\n",
       "<style scoped>\n",
       "    .dataframe tbody tr th:only-of-type {\n",
       "        vertical-align: middle;\n",
       "    }\n",
       "\n",
       "    .dataframe tbody tr th {\n",
       "        vertical-align: top;\n",
       "    }\n",
       "\n",
       "    .dataframe thead th {\n",
       "        text-align: right;\n",
       "    }\n",
       "</style>\n",
       "<table border=\"1\" class=\"dataframe\">\n",
       "  <thead>\n",
       "    <tr style=\"text-align: right;\">\n",
       "      <th></th>\n",
       "      <th>Major</th>\n",
       "      <th>GPA</th>\n",
       "    </tr>\n",
       "  </thead>\n",
       "  <tbody>\n",
       "    <tr>\n",
       "      <th>1</th>\n",
       "      <td>Math</td>\n",
       "      <td>3.6</td>\n",
       "    </tr>\n",
       "    <tr>\n",
       "      <th>2</th>\n",
       "      <td>CS</td>\n",
       "      <td>4.0</td>\n",
       "    </tr>\n",
       "    <tr>\n",
       "      <th>3</th>\n",
       "      <td>Stats</td>\n",
       "      <td>3.8</td>\n",
       "    </tr>\n",
       "  </tbody>\n",
       "</table>\n",
       "</div>"
      ],
      "text/plain": [
       "   Major  GPA\n",
       "1   Math  3.6\n",
       "2     CS  4.0\n",
       "3  Stats  3.8"
      ]
     },
     "execution_count": 35,
     "metadata": {},
     "output_type": "execute_result"
    }
   ],
   "source": [
    "df.loc[1:3, ['Major', 'GPA']]"
   ]
  },
  {
   "cell_type": "markdown",
   "id": "cdb25c28",
   "metadata": {},
   "source": [
    "#### Q3. Using the DataFrame you created in Q1, add a new column to it."
   ]
  },
  {
   "cell_type": "code",
   "execution_count": 36,
   "id": "cacc175e",
   "metadata": {},
   "outputs": [
    {
     "data": {
      "text/html": [
       "<div>\n",
       "<style scoped>\n",
       "    .dataframe tbody tr th:only-of-type {\n",
       "        vertical-align: middle;\n",
       "    }\n",
       "\n",
       "    .dataframe tbody tr th {\n",
       "        vertical-align: top;\n",
       "    }\n",
       "\n",
       "    .dataframe thead th {\n",
       "        text-align: right;\n",
       "    }\n",
       "</style>\n",
       "<table border=\"1\" class=\"dataframe\">\n",
       "  <thead>\n",
       "    <tr style=\"text-align: right;\">\n",
       "      <th></th>\n",
       "      <th>Student</th>\n",
       "      <th>Grade</th>\n",
       "      <th>Major</th>\n",
       "      <th>Student Debt</th>\n",
       "      <th>GPA</th>\n",
       "      <th>Age</th>\n",
       "    </tr>\n",
       "  </thead>\n",
       "  <tbody>\n",
       "    <tr>\n",
       "      <th>0</th>\n",
       "      <td>Alex</td>\n",
       "      <td>1</td>\n",
       "      <td>CS</td>\n",
       "      <td>6500</td>\n",
       "      <td>3.9</td>\n",
       "      <td>21</td>\n",
       "    </tr>\n",
       "    <tr>\n",
       "      <th>1</th>\n",
       "      <td>Ben</td>\n",
       "      <td>1</td>\n",
       "      <td>Math</td>\n",
       "      <td>80000</td>\n",
       "      <td>3.6</td>\n",
       "      <td>23</td>\n",
       "    </tr>\n",
       "    <tr>\n",
       "      <th>2</th>\n",
       "      <td>Charlie</td>\n",
       "      <td>2</td>\n",
       "      <td>CS</td>\n",
       "      <td>20000</td>\n",
       "      <td>4.0</td>\n",
       "      <td>24</td>\n",
       "    </tr>\n",
       "    <tr>\n",
       "      <th>3</th>\n",
       "      <td>David</td>\n",
       "      <td>3</td>\n",
       "      <td>Stats</td>\n",
       "      <td>5</td>\n",
       "      <td>3.8</td>\n",
       "      <td>21</td>\n",
       "    </tr>\n",
       "    <tr>\n",
       "      <th>4</th>\n",
       "      <td>Eduardo</td>\n",
       "      <td>4</td>\n",
       "      <td>Gender Studies</td>\n",
       "      <td>142000</td>\n",
       "      <td>1.2</td>\n",
       "      <td>39</td>\n",
       "    </tr>\n",
       "  </tbody>\n",
       "</table>\n",
       "</div>"
      ],
      "text/plain": [
       "   Student  Grade           Major  Student Debt  GPA  Age\n",
       "0     Alex      1              CS          6500  3.9   21\n",
       "1      Ben      1            Math         80000  3.6   23\n",
       "2  Charlie      2              CS         20000  4.0   24\n",
       "3    David      3           Stats             5  3.8   21\n",
       "4  Eduardo      4  Gender Studies        142000  1.2   39"
      ]
     },
     "execution_count": 36,
     "metadata": {},
     "output_type": "execute_result"
    }
   ],
   "source": [
    "df.insert(5, \"Age\", [21, 23, 24, 21, 39], True)\n",
    "df"
   ]
  },
  {
   "cell_type": "markdown",
   "id": "3b266bf5",
   "metadata": {},
   "source": [
    "#### Q4. Using the `.drop()` function, drop one of the columns from the DataFrame you created in Q1 and display it."
   ]
  },
  {
   "cell_type": "code",
   "execution_count": 37,
   "id": "9c217a3f",
   "metadata": {},
   "outputs": [
    {
     "data": {
      "text/html": [
       "<div>\n",
       "<style scoped>\n",
       "    .dataframe tbody tr th:only-of-type {\n",
       "        vertical-align: middle;\n",
       "    }\n",
       "\n",
       "    .dataframe tbody tr th {\n",
       "        vertical-align: top;\n",
       "    }\n",
       "\n",
       "    .dataframe thead th {\n",
       "        text-align: right;\n",
       "    }\n",
       "</style>\n",
       "<table border=\"1\" class=\"dataframe\">\n",
       "  <thead>\n",
       "    <tr style=\"text-align: right;\">\n",
       "      <th></th>\n",
       "      <th>Student</th>\n",
       "      <th>Grade</th>\n",
       "      <th>Major</th>\n",
       "      <th>Student Debt</th>\n",
       "      <th>GPA</th>\n",
       "    </tr>\n",
       "  </thead>\n",
       "  <tbody>\n",
       "    <tr>\n",
       "      <th>0</th>\n",
       "      <td>Alex</td>\n",
       "      <td>1</td>\n",
       "      <td>CS</td>\n",
       "      <td>6500</td>\n",
       "      <td>3.9</td>\n",
       "    </tr>\n",
       "    <tr>\n",
       "      <th>1</th>\n",
       "      <td>Ben</td>\n",
       "      <td>1</td>\n",
       "      <td>Math</td>\n",
       "      <td>80000</td>\n",
       "      <td>3.6</td>\n",
       "    </tr>\n",
       "    <tr>\n",
       "      <th>2</th>\n",
       "      <td>Charlie</td>\n",
       "      <td>2</td>\n",
       "      <td>CS</td>\n",
       "      <td>20000</td>\n",
       "      <td>4.0</td>\n",
       "    </tr>\n",
       "    <tr>\n",
       "      <th>3</th>\n",
       "      <td>David</td>\n",
       "      <td>3</td>\n",
       "      <td>Stats</td>\n",
       "      <td>5</td>\n",
       "      <td>3.8</td>\n",
       "    </tr>\n",
       "    <tr>\n",
       "      <th>4</th>\n",
       "      <td>Eduardo</td>\n",
       "      <td>4</td>\n",
       "      <td>Gender Studies</td>\n",
       "      <td>142000</td>\n",
       "      <td>1.2</td>\n",
       "    </tr>\n",
       "  </tbody>\n",
       "</table>\n",
       "</div>"
      ],
      "text/plain": [
       "   Student  Grade           Major  Student Debt  GPA\n",
       "0     Alex      1              CS          6500  3.9\n",
       "1      Ben      1            Math         80000  3.6\n",
       "2  Charlie      2              CS         20000  4.0\n",
       "3    David      3           Stats             5  3.8\n",
       "4  Eduardo      4  Gender Studies        142000  1.2"
      ]
     },
     "execution_count": 37,
     "metadata": {},
     "output_type": "execute_result"
    }
   ],
   "source": [
    "df = df.drop(['Age'], axis=1)\n",
    "df"
   ]
  },
  {
   "cell_type": "markdown",
   "id": "6f66e073",
   "metadata": {},
   "source": [
    "#### Q5. Using the `.rename()` function, rename one of the columns from the DataFrame you created in Q1 and display it."
   ]
  },
  {
   "cell_type": "code",
   "execution_count": 38,
   "id": "cfcdac44",
   "metadata": {},
   "outputs": [
    {
     "data": {
      "text/html": [
       "<div>\n",
       "<style scoped>\n",
       "    .dataframe tbody tr th:only-of-type {\n",
       "        vertical-align: middle;\n",
       "    }\n",
       "\n",
       "    .dataframe tbody tr th {\n",
       "        vertical-align: top;\n",
       "    }\n",
       "\n",
       "    .dataframe thead th {\n",
       "        text-align: right;\n",
       "    }\n",
       "</style>\n",
       "<table border=\"1\" class=\"dataframe\">\n",
       "  <thead>\n",
       "    <tr style=\"text-align: right;\">\n",
       "      <th></th>\n",
       "      <th>Name</th>\n",
       "      <th>Grade</th>\n",
       "      <th>Major</th>\n",
       "      <th>Student Debt</th>\n",
       "      <th>GPA</th>\n",
       "    </tr>\n",
       "  </thead>\n",
       "  <tbody>\n",
       "    <tr>\n",
       "      <th>0</th>\n",
       "      <td>Alex</td>\n",
       "      <td>1</td>\n",
       "      <td>CS</td>\n",
       "      <td>6500</td>\n",
       "      <td>3.9</td>\n",
       "    </tr>\n",
       "    <tr>\n",
       "      <th>1</th>\n",
       "      <td>Ben</td>\n",
       "      <td>1</td>\n",
       "      <td>Math</td>\n",
       "      <td>80000</td>\n",
       "      <td>3.6</td>\n",
       "    </tr>\n",
       "    <tr>\n",
       "      <th>2</th>\n",
       "      <td>Charlie</td>\n",
       "      <td>2</td>\n",
       "      <td>CS</td>\n",
       "      <td>20000</td>\n",
       "      <td>4.0</td>\n",
       "    </tr>\n",
       "    <tr>\n",
       "      <th>3</th>\n",
       "      <td>David</td>\n",
       "      <td>3</td>\n",
       "      <td>Stats</td>\n",
       "      <td>5</td>\n",
       "      <td>3.8</td>\n",
       "    </tr>\n",
       "    <tr>\n",
       "      <th>4</th>\n",
       "      <td>Eduardo</td>\n",
       "      <td>4</td>\n",
       "      <td>Gender Studies</td>\n",
       "      <td>142000</td>\n",
       "      <td>1.2</td>\n",
       "    </tr>\n",
       "  </tbody>\n",
       "</table>\n",
       "</div>"
      ],
      "text/plain": [
       "      Name  Grade           Major  Student Debt  GPA\n",
       "0     Alex      1              CS          6500  3.9\n",
       "1      Ben      1            Math         80000  3.6\n",
       "2  Charlie      2              CS         20000  4.0\n",
       "3    David      3           Stats             5  3.8\n",
       "4  Eduardo      4  Gender Studies        142000  1.2"
      ]
     },
     "execution_count": 38,
     "metadata": {},
     "output_type": "execute_result"
    }
   ],
   "source": [
    "df = df.rename(columns={\"Student\": \"Name\"})\n",
    "df"
   ]
  },
  {
   "cell_type": "markdown",
   "id": "4fa87ff3",
   "metadata": {},
   "source": [
    "### Filtering Data\n",
    "When we want to filter our DataFrame for a specific set of data, we can use boolean symbols to do so.\n",
    "\n",
    "Say from our `example_df` above, we want to only look through students who's grade is at most 2."
   ]
  },
  {
   "cell_type": "code",
   "execution_count": 39,
   "id": "87a2a4ba",
   "metadata": {
    "scrolled": true
   },
   "outputs": [
    {
     "data": {
      "text/html": [
       "<div>\n",
       "<style scoped>\n",
       "    .dataframe tbody tr th:only-of-type {\n",
       "        vertical-align: middle;\n",
       "    }\n",
       "\n",
       "    .dataframe tbody tr th {\n",
       "        vertical-align: top;\n",
       "    }\n",
       "\n",
       "    .dataframe thead th {\n",
       "        text-align: right;\n",
       "    }\n",
       "</style>\n",
       "<table border=\"1\" class=\"dataframe\">\n",
       "  <thead>\n",
       "    <tr style=\"text-align: right;\">\n",
       "      <th></th>\n",
       "      <th>Student</th>\n",
       "      <th>Grade</th>\n",
       "      <th>Major</th>\n",
       "    </tr>\n",
       "  </thead>\n",
       "  <tbody>\n",
       "    <tr>\n",
       "      <th>0</th>\n",
       "      <td>Alex</td>\n",
       "      <td>1</td>\n",
       "      <td>CS</td>\n",
       "    </tr>\n",
       "    <tr>\n",
       "      <th>1</th>\n",
       "      <td>Ben</td>\n",
       "      <td>1</td>\n",
       "      <td>Math</td>\n",
       "    </tr>\n",
       "    <tr>\n",
       "      <th>2</th>\n",
       "      <td>Charlie</td>\n",
       "      <td>2</td>\n",
       "      <td>CS</td>\n",
       "    </tr>\n",
       "  </tbody>\n",
       "</table>\n",
       "</div>"
      ],
      "text/plain": [
       "   Student  Grade Major\n",
       "0     Alex      1    CS\n",
       "1      Ben      1  Math\n",
       "2  Charlie      2    CS"
      ]
     },
     "execution_count": 39,
     "metadata": {},
     "output_type": "execute_result"
    }
   ],
   "source": [
    "example_df[example_df[\"Grade\"] <= 2]"
   ]
  },
  {
   "cell_type": "markdown",
   "id": "b44ba6f3",
   "metadata": {},
   "source": [
    "Now, let's say we want to filter for students who are CS majors and grade 1."
   ]
  },
  {
   "cell_type": "code",
   "execution_count": 40,
   "id": "af214e5e",
   "metadata": {},
   "outputs": [
    {
     "data": {
      "text/html": [
       "<div>\n",
       "<style scoped>\n",
       "    .dataframe tbody tr th:only-of-type {\n",
       "        vertical-align: middle;\n",
       "    }\n",
       "\n",
       "    .dataframe tbody tr th {\n",
       "        vertical-align: top;\n",
       "    }\n",
       "\n",
       "    .dataframe thead th {\n",
       "        text-align: right;\n",
       "    }\n",
       "</style>\n",
       "<table border=\"1\" class=\"dataframe\">\n",
       "  <thead>\n",
       "    <tr style=\"text-align: right;\">\n",
       "      <th></th>\n",
       "      <th>Student</th>\n",
       "      <th>Grade</th>\n",
       "      <th>Major</th>\n",
       "    </tr>\n",
       "  </thead>\n",
       "  <tbody>\n",
       "    <tr>\n",
       "      <th>0</th>\n",
       "      <td>Alex</td>\n",
       "      <td>1</td>\n",
       "      <td>CS</td>\n",
       "    </tr>\n",
       "  </tbody>\n",
       "</table>\n",
       "</div>"
      ],
      "text/plain": [
       "  Student  Grade Major\n",
       "0    Alex      1    CS"
      ]
     },
     "execution_count": 40,
     "metadata": {},
     "output_type": "execute_result"
    }
   ],
   "source": [
    "example_df[(example_df[\"Major\"] == \"CS\") & (example_df[\"Grade\"] == 1)]"
   ]
  },
  {
   "cell_type": "markdown",
   "id": "ec3fdb01",
   "metadata": {},
   "source": [
    "Another cool way of filtering is using the method `groupby`. Let's say we want to know the number of students from each Grade."
   ]
  },
  {
   "cell_type": "code",
   "execution_count": 41,
   "id": "95dbee7d",
   "metadata": {},
   "outputs": [
    {
     "data": {
      "text/html": [
       "<div>\n",
       "<style scoped>\n",
       "    .dataframe tbody tr th:only-of-type {\n",
       "        vertical-align: middle;\n",
       "    }\n",
       "\n",
       "    .dataframe tbody tr th {\n",
       "        vertical-align: top;\n",
       "    }\n",
       "\n",
       "    .dataframe thead th {\n",
       "        text-align: right;\n",
       "    }\n",
       "</style>\n",
       "<table border=\"1\" class=\"dataframe\">\n",
       "  <thead>\n",
       "    <tr style=\"text-align: right;\">\n",
       "      <th></th>\n",
       "      <th>Student</th>\n",
       "      <th>Major</th>\n",
       "    </tr>\n",
       "    <tr>\n",
       "      <th>Grade</th>\n",
       "      <th></th>\n",
       "      <th></th>\n",
       "    </tr>\n",
       "  </thead>\n",
       "  <tbody>\n",
       "    <tr>\n",
       "      <th>1</th>\n",
       "      <td>2</td>\n",
       "      <td>2</td>\n",
       "    </tr>\n",
       "    <tr>\n",
       "      <th>2</th>\n",
       "      <td>1</td>\n",
       "      <td>1</td>\n",
       "    </tr>\n",
       "    <tr>\n",
       "      <th>3</th>\n",
       "      <td>1</td>\n",
       "      <td>1</td>\n",
       "    </tr>\n",
       "  </tbody>\n",
       "</table>\n",
       "</div>"
      ],
      "text/plain": [
       "       Student  Major\n",
       "Grade                \n",
       "1            2      2\n",
       "2            1      1\n",
       "3            1      1"
      ]
     },
     "execution_count": 41,
     "metadata": {},
     "output_type": "execute_result"
    }
   ],
   "source": [
    "example_df.groupby([\"Grade\"]).count()"
   ]
  },
  {
   "cell_type": "markdown",
   "id": "67515e95",
   "metadata": {},
   "source": [
    "#### Q1. Using your DataFrame from the previous question, do some sort of filtering and show your code & output below."
   ]
  },
  {
   "cell_type": "code",
   "execution_count": 42,
   "id": "7f6a7338",
   "metadata": {},
   "outputs": [
    {
     "data": {
      "text/html": [
       "<div>\n",
       "<style scoped>\n",
       "    .dataframe tbody tr th:only-of-type {\n",
       "        vertical-align: middle;\n",
       "    }\n",
       "\n",
       "    .dataframe tbody tr th {\n",
       "        vertical-align: top;\n",
       "    }\n",
       "\n",
       "    .dataframe thead th {\n",
       "        text-align: right;\n",
       "    }\n",
       "</style>\n",
       "<table border=\"1\" class=\"dataframe\">\n",
       "  <thead>\n",
       "    <tr style=\"text-align: right;\">\n",
       "      <th></th>\n",
       "      <th>Name</th>\n",
       "      <th>Grade</th>\n",
       "      <th>Major</th>\n",
       "      <th>Student Debt</th>\n",
       "      <th>GPA</th>\n",
       "    </tr>\n",
       "  </thead>\n",
       "  <tbody>\n",
       "    <tr>\n",
       "      <th>3</th>\n",
       "      <td>David</td>\n",
       "      <td>3</td>\n",
       "      <td>Stats</td>\n",
       "      <td>5</td>\n",
       "      <td>3.8</td>\n",
       "    </tr>\n",
       "  </tbody>\n",
       "</table>\n",
       "</div>"
      ],
      "text/plain": [
       "    Name  Grade  Major  Student Debt  GPA\n",
       "3  David      3  Stats             5  3.8"
      ]
     },
     "execution_count": 42,
     "metadata": {},
     "output_type": "execute_result"
    }
   ],
   "source": [
    "df[(df[\"Major\"] == \"Stats\") & (df[\"Grade\"] >= 1)]"
   ]
  },
  {
   "cell_type": "markdown",
   "id": "2140a142",
   "metadata": {},
   "source": [
    "----"
   ]
  },
  {
   "cell_type": "markdown",
   "id": "b3384522",
   "metadata": {},
   "source": [
    "Now let's download an external dataset. We can use the `read_csv` function from pandas to do so. We demonstrate how we can convert the data in `cars.csv` into a pandas dataframe in order to work with it in python."
   ]
  },
  {
   "cell_type": "code",
   "execution_count": 43,
   "id": "358e042a",
   "metadata": {},
   "outputs": [],
   "source": [
    "data = pd.read_csv('./cars.csv', delimiter = ';').tail(-1)"
   ]
  },
  {
   "cell_type": "markdown",
   "id": "88d9f43d",
   "metadata": {},
   "source": [
    "#### Q2. Display the first 15 rows of `data` using the `head` function."
   ]
  },
  {
   "cell_type": "code",
   "execution_count": 44,
   "id": "58d4474c",
   "metadata": {},
   "outputs": [
    {
     "data": {
      "text/html": [
       "<div>\n",
       "<style scoped>\n",
       "    .dataframe tbody tr th:only-of-type {\n",
       "        vertical-align: middle;\n",
       "    }\n",
       "\n",
       "    .dataframe tbody tr th {\n",
       "        vertical-align: top;\n",
       "    }\n",
       "\n",
       "    .dataframe thead th {\n",
       "        text-align: right;\n",
       "    }\n",
       "</style>\n",
       "<table border=\"1\" class=\"dataframe\">\n",
       "  <thead>\n",
       "    <tr style=\"text-align: right;\">\n",
       "      <th></th>\n",
       "      <th>Car</th>\n",
       "      <th>MPG</th>\n",
       "      <th>Cylinders</th>\n",
       "      <th>Displacement</th>\n",
       "      <th>Horsepower</th>\n",
       "      <th>Weight</th>\n",
       "      <th>Acceleration</th>\n",
       "      <th>Model</th>\n",
       "      <th>Origin</th>\n",
       "    </tr>\n",
       "  </thead>\n",
       "  <tbody>\n",
       "    <tr>\n",
       "      <th>1</th>\n",
       "      <td>Chevrolet Chevelle Malibu</td>\n",
       "      <td>18.0</td>\n",
       "      <td>8</td>\n",
       "      <td>307.0</td>\n",
       "      <td>130.0</td>\n",
       "      <td>3504.</td>\n",
       "      <td>12.0</td>\n",
       "      <td>70</td>\n",
       "      <td>US</td>\n",
       "    </tr>\n",
       "    <tr>\n",
       "      <th>2</th>\n",
       "      <td>Buick Skylark 320</td>\n",
       "      <td>15.0</td>\n",
       "      <td>8</td>\n",
       "      <td>350.0</td>\n",
       "      <td>165.0</td>\n",
       "      <td>3693.</td>\n",
       "      <td>11.5</td>\n",
       "      <td>70</td>\n",
       "      <td>US</td>\n",
       "    </tr>\n",
       "    <tr>\n",
       "      <th>3</th>\n",
       "      <td>Plymouth Satellite</td>\n",
       "      <td>18.0</td>\n",
       "      <td>8</td>\n",
       "      <td>318.0</td>\n",
       "      <td>150.0</td>\n",
       "      <td>3436.</td>\n",
       "      <td>11.0</td>\n",
       "      <td>70</td>\n",
       "      <td>US</td>\n",
       "    </tr>\n",
       "    <tr>\n",
       "      <th>4</th>\n",
       "      <td>AMC Rebel SST</td>\n",
       "      <td>16.0</td>\n",
       "      <td>8</td>\n",
       "      <td>304.0</td>\n",
       "      <td>150.0</td>\n",
       "      <td>3433.</td>\n",
       "      <td>12.0</td>\n",
       "      <td>70</td>\n",
       "      <td>US</td>\n",
       "    </tr>\n",
       "    <tr>\n",
       "      <th>5</th>\n",
       "      <td>Ford Torino</td>\n",
       "      <td>17.0</td>\n",
       "      <td>8</td>\n",
       "      <td>302.0</td>\n",
       "      <td>140.0</td>\n",
       "      <td>3449.</td>\n",
       "      <td>10.5</td>\n",
       "      <td>70</td>\n",
       "      <td>US</td>\n",
       "    </tr>\n",
       "    <tr>\n",
       "      <th>6</th>\n",
       "      <td>Ford Galaxie 500</td>\n",
       "      <td>15.0</td>\n",
       "      <td>8</td>\n",
       "      <td>429.0</td>\n",
       "      <td>198.0</td>\n",
       "      <td>4341.</td>\n",
       "      <td>10.0</td>\n",
       "      <td>70</td>\n",
       "      <td>US</td>\n",
       "    </tr>\n",
       "    <tr>\n",
       "      <th>7</th>\n",
       "      <td>Chevrolet Impala</td>\n",
       "      <td>14.0</td>\n",
       "      <td>8</td>\n",
       "      <td>454.0</td>\n",
       "      <td>220.0</td>\n",
       "      <td>4354.</td>\n",
       "      <td>9.0</td>\n",
       "      <td>70</td>\n",
       "      <td>US</td>\n",
       "    </tr>\n",
       "    <tr>\n",
       "      <th>8</th>\n",
       "      <td>Plymouth Fury iii</td>\n",
       "      <td>14.0</td>\n",
       "      <td>8</td>\n",
       "      <td>440.0</td>\n",
       "      <td>215.0</td>\n",
       "      <td>4312.</td>\n",
       "      <td>8.5</td>\n",
       "      <td>70</td>\n",
       "      <td>US</td>\n",
       "    </tr>\n",
       "    <tr>\n",
       "      <th>9</th>\n",
       "      <td>Pontiac Catalina</td>\n",
       "      <td>14.0</td>\n",
       "      <td>8</td>\n",
       "      <td>455.0</td>\n",
       "      <td>225.0</td>\n",
       "      <td>4425.</td>\n",
       "      <td>10.0</td>\n",
       "      <td>70</td>\n",
       "      <td>US</td>\n",
       "    </tr>\n",
       "    <tr>\n",
       "      <th>10</th>\n",
       "      <td>AMC Ambassador DPL</td>\n",
       "      <td>15.0</td>\n",
       "      <td>8</td>\n",
       "      <td>390.0</td>\n",
       "      <td>190.0</td>\n",
       "      <td>3850.</td>\n",
       "      <td>8.5</td>\n",
       "      <td>70</td>\n",
       "      <td>US</td>\n",
       "    </tr>\n",
       "    <tr>\n",
       "      <th>11</th>\n",
       "      <td>Citroen DS-21 Pallas</td>\n",
       "      <td>0</td>\n",
       "      <td>4</td>\n",
       "      <td>133.0</td>\n",
       "      <td>115.0</td>\n",
       "      <td>3090.</td>\n",
       "      <td>17.5</td>\n",
       "      <td>70</td>\n",
       "      <td>Europe</td>\n",
       "    </tr>\n",
       "    <tr>\n",
       "      <th>12</th>\n",
       "      <td>Chevrolet Chevelle Concours (sw)</td>\n",
       "      <td>0</td>\n",
       "      <td>8</td>\n",
       "      <td>350.0</td>\n",
       "      <td>165.0</td>\n",
       "      <td>4142.</td>\n",
       "      <td>11.5</td>\n",
       "      <td>70</td>\n",
       "      <td>US</td>\n",
       "    </tr>\n",
       "    <tr>\n",
       "      <th>13</th>\n",
       "      <td>Ford Torino (sw)</td>\n",
       "      <td>0</td>\n",
       "      <td>8</td>\n",
       "      <td>351.0</td>\n",
       "      <td>153.0</td>\n",
       "      <td>4034.</td>\n",
       "      <td>11.0</td>\n",
       "      <td>70</td>\n",
       "      <td>US</td>\n",
       "    </tr>\n",
       "    <tr>\n",
       "      <th>14</th>\n",
       "      <td>Plymouth Satellite (sw)</td>\n",
       "      <td>0</td>\n",
       "      <td>8</td>\n",
       "      <td>383.0</td>\n",
       "      <td>175.0</td>\n",
       "      <td>4166.</td>\n",
       "      <td>10.5</td>\n",
       "      <td>70</td>\n",
       "      <td>US</td>\n",
       "    </tr>\n",
       "    <tr>\n",
       "      <th>15</th>\n",
       "      <td>AMC Rebel SST (sw)</td>\n",
       "      <td>0</td>\n",
       "      <td>8</td>\n",
       "      <td>360.0</td>\n",
       "      <td>175.0</td>\n",
       "      <td>3850.</td>\n",
       "      <td>11.0</td>\n",
       "      <td>70</td>\n",
       "      <td>US</td>\n",
       "    </tr>\n",
       "  </tbody>\n",
       "</table>\n",
       "</div>"
      ],
      "text/plain": [
       "                                 Car   MPG Cylinders Displacement Horsepower  \\\n",
       "1          Chevrolet Chevelle Malibu  18.0         8        307.0      130.0   \n",
       "2                  Buick Skylark 320  15.0         8        350.0      165.0   \n",
       "3                 Plymouth Satellite  18.0         8        318.0      150.0   \n",
       "4                      AMC Rebel SST  16.0         8        304.0      150.0   \n",
       "5                        Ford Torino  17.0         8        302.0      140.0   \n",
       "6                   Ford Galaxie 500  15.0         8        429.0      198.0   \n",
       "7                   Chevrolet Impala  14.0         8        454.0      220.0   \n",
       "8                  Plymouth Fury iii  14.0         8        440.0      215.0   \n",
       "9                   Pontiac Catalina  14.0         8        455.0      225.0   \n",
       "10                AMC Ambassador DPL  15.0         8        390.0      190.0   \n",
       "11              Citroen DS-21 Pallas     0         4        133.0      115.0   \n",
       "12  Chevrolet Chevelle Concours (sw)     0         8        350.0      165.0   \n",
       "13                  Ford Torino (sw)     0         8        351.0      153.0   \n",
       "14           Plymouth Satellite (sw)     0         8        383.0      175.0   \n",
       "15                AMC Rebel SST (sw)     0         8        360.0      175.0   \n",
       "\n",
       "   Weight Acceleration Model  Origin  \n",
       "1   3504.         12.0    70      US  \n",
       "2   3693.         11.5    70      US  \n",
       "3   3436.         11.0    70      US  \n",
       "4   3433.         12.0    70      US  \n",
       "5   3449.         10.5    70      US  \n",
       "6   4341.         10.0    70      US  \n",
       "7   4354.          9.0    70      US  \n",
       "8   4312.          8.5    70      US  \n",
       "9   4425.         10.0    70      US  \n",
       "10  3850.          8.5    70      US  \n",
       "11  3090.         17.5    70  Europe  \n",
       "12  4142.         11.5    70      US  \n",
       "13  4034.         11.0    70      US  \n",
       "14  4166.         10.5    70      US  \n",
       "15  3850.         11.0    70      US  "
      ]
     },
     "execution_count": 44,
     "metadata": {},
     "output_type": "execute_result"
    }
   ],
   "source": [
    "data.head(15)"
   ]
  },
  {
   "cell_type": "markdown",
   "id": "a391c378",
   "metadata": {},
   "source": [
    "#### Q3. Display the last 7 rows of `data` using the `tail` function."
   ]
  },
  {
   "cell_type": "code",
   "execution_count": 45,
   "id": "4e8f3a16",
   "metadata": {},
   "outputs": [
    {
     "data": {
      "text/html": [
       "<div>\n",
       "<style scoped>\n",
       "    .dataframe tbody tr th:only-of-type {\n",
       "        vertical-align: middle;\n",
       "    }\n",
       "\n",
       "    .dataframe tbody tr th {\n",
       "        vertical-align: top;\n",
       "    }\n",
       "\n",
       "    .dataframe thead th {\n",
       "        text-align: right;\n",
       "    }\n",
       "</style>\n",
       "<table border=\"1\" class=\"dataframe\">\n",
       "  <thead>\n",
       "    <tr style=\"text-align: right;\">\n",
       "      <th></th>\n",
       "      <th>Car</th>\n",
       "      <th>MPG</th>\n",
       "      <th>Cylinders</th>\n",
       "      <th>Displacement</th>\n",
       "      <th>Horsepower</th>\n",
       "      <th>Weight</th>\n",
       "      <th>Acceleration</th>\n",
       "      <th>Model</th>\n",
       "      <th>Origin</th>\n",
       "    </tr>\n",
       "  </thead>\n",
       "  <tbody>\n",
       "    <tr>\n",
       "      <th>400</th>\n",
       "      <td>Dodge Charger 2.2</td>\n",
       "      <td>36.0</td>\n",
       "      <td>4</td>\n",
       "      <td>135.0</td>\n",
       "      <td>84.00</td>\n",
       "      <td>2370.</td>\n",
       "      <td>13.0</td>\n",
       "      <td>82</td>\n",
       "      <td>US</td>\n",
       "    </tr>\n",
       "    <tr>\n",
       "      <th>401</th>\n",
       "      <td>Chevrolet Camaro</td>\n",
       "      <td>27.0</td>\n",
       "      <td>4</td>\n",
       "      <td>151.0</td>\n",
       "      <td>90.00</td>\n",
       "      <td>2950.</td>\n",
       "      <td>17.3</td>\n",
       "      <td>82</td>\n",
       "      <td>US</td>\n",
       "    </tr>\n",
       "    <tr>\n",
       "      <th>402</th>\n",
       "      <td>Ford Mustang GL</td>\n",
       "      <td>27.0</td>\n",
       "      <td>4</td>\n",
       "      <td>140.0</td>\n",
       "      <td>86.00</td>\n",
       "      <td>2790.</td>\n",
       "      <td>15.6</td>\n",
       "      <td>82</td>\n",
       "      <td>US</td>\n",
       "    </tr>\n",
       "    <tr>\n",
       "      <th>403</th>\n",
       "      <td>Volkswagen Pickup</td>\n",
       "      <td>44.0</td>\n",
       "      <td>4</td>\n",
       "      <td>97.00</td>\n",
       "      <td>52.00</td>\n",
       "      <td>2130.</td>\n",
       "      <td>24.6</td>\n",
       "      <td>82</td>\n",
       "      <td>Europe</td>\n",
       "    </tr>\n",
       "    <tr>\n",
       "      <th>404</th>\n",
       "      <td>Dodge Rampage</td>\n",
       "      <td>32.0</td>\n",
       "      <td>4</td>\n",
       "      <td>135.0</td>\n",
       "      <td>84.00</td>\n",
       "      <td>2295.</td>\n",
       "      <td>11.6</td>\n",
       "      <td>82</td>\n",
       "      <td>US</td>\n",
       "    </tr>\n",
       "    <tr>\n",
       "      <th>405</th>\n",
       "      <td>Ford Ranger</td>\n",
       "      <td>28.0</td>\n",
       "      <td>4</td>\n",
       "      <td>120.0</td>\n",
       "      <td>79.00</td>\n",
       "      <td>2625.</td>\n",
       "      <td>18.6</td>\n",
       "      <td>82</td>\n",
       "      <td>US</td>\n",
       "    </tr>\n",
       "    <tr>\n",
       "      <th>406</th>\n",
       "      <td>Chevy S-10</td>\n",
       "      <td>31.0</td>\n",
       "      <td>4</td>\n",
       "      <td>119.0</td>\n",
       "      <td>82.00</td>\n",
       "      <td>2720.</td>\n",
       "      <td>19.4</td>\n",
       "      <td>82</td>\n",
       "      <td>US</td>\n",
       "    </tr>\n",
       "  </tbody>\n",
       "</table>\n",
       "</div>"
      ],
      "text/plain": [
       "                   Car   MPG Cylinders Displacement Horsepower Weight  \\\n",
       "400  Dodge Charger 2.2  36.0         4        135.0      84.00  2370.   \n",
       "401   Chevrolet Camaro  27.0         4        151.0      90.00  2950.   \n",
       "402    Ford Mustang GL  27.0         4        140.0      86.00  2790.   \n",
       "403  Volkswagen Pickup  44.0         4        97.00      52.00  2130.   \n",
       "404      Dodge Rampage  32.0         4        135.0      84.00  2295.   \n",
       "405        Ford Ranger  28.0         4        120.0      79.00  2625.   \n",
       "406         Chevy S-10  31.0         4        119.0      82.00  2720.   \n",
       "\n",
       "    Acceleration Model  Origin  \n",
       "400         13.0    82      US  \n",
       "401         17.3    82      US  \n",
       "402         15.6    82      US  \n",
       "403         24.6    82  Europe  \n",
       "404         11.6    82      US  \n",
       "405         18.6    82      US  \n",
       "406         19.4    82      US  "
      ]
     },
     "execution_count": 45,
     "metadata": {},
     "output_type": "execute_result"
    }
   ],
   "source": [
    "data.tail(7)"
   ]
  },
  {
   "cell_type": "markdown",
   "id": "902389f2",
   "metadata": {},
   "source": [
    "#### Q4. Using the variable `data`, find how many cars have 6 cylinders"
   ]
  },
  {
   "cell_type": "code",
   "execution_count": 46,
   "id": "0a5c7f77",
   "metadata": {},
   "outputs": [
    {
     "data": {
      "text/plain": [
       "Car             84\n",
       "MPG             84\n",
       "Cylinders       84\n",
       "Displacement    84\n",
       "Horsepower      84\n",
       "Weight          84\n",
       "Acceleration    84\n",
       "Model           84\n",
       "Origin          84\n",
       "dtype: int64"
      ]
     },
     "execution_count": 46,
     "metadata": {},
     "output_type": "execute_result"
    }
   ],
   "source": [
    "data6cylinders = data[(data[\"Cylinders\"] == \"6\")]\n",
    "data6cylinders.count()"
   ]
  },
  {
   "cell_type": "markdown",
   "id": "a908b272",
   "metadata": {},
   "source": [
    "#### Q5. Using the variable `data`, find how many cars with 6 cylinders were originated from the US."
   ]
  },
  {
   "cell_type": "code",
   "execution_count": 47,
   "id": "e338965a",
   "metadata": {},
   "outputs": [
    {
     "data": {
      "text/plain": [
       "Car             74\n",
       "MPG             74\n",
       "Cylinders       74\n",
       "Displacement    74\n",
       "Horsepower      74\n",
       "Weight          74\n",
       "Acceleration    74\n",
       "Model           74\n",
       "Origin          74\n",
       "dtype: int64"
      ]
     },
     "execution_count": 47,
     "metadata": {},
     "output_type": "execute_result"
    }
   ],
   "source": [
    "data6cylindersUS = data[(data[\"Cylinders\"] == \"6\") & (data[\"Origin\"] == \"US\")]\n",
    "data6cylindersUS.count()"
   ]
  },
  {
   "cell_type": "markdown",
   "id": "76b5f6c9",
   "metadata": {},
   "source": [
    "#### Q6. Using the variable `data`, display cars with 6 cylinders, from the US, with weigth less than 3000."
   ]
  },
  {
   "cell_type": "code",
   "execution_count": 48,
   "id": "e62ce7ba",
   "metadata": {},
   "outputs": [
    {
     "data": {
      "text/plain": [
       "Car             53\n",
       "MPG             53\n",
       "Cylinders       53\n",
       "Displacement    53\n",
       "Horsepower      53\n",
       "Weight          53\n",
       "Acceleration    53\n",
       "Model           53\n",
       "Origin          53\n",
       "dtype: int64"
      ]
     },
     "execution_count": 48,
     "metadata": {},
     "output_type": "execute_result"
    }
   ],
   "source": [
    "data6cylindersUSu3000 = data[(data[\"Cylinders\"] == \"6\") & (data[\"Origin\"] == \"US\") & (data[\"Weight\"] >= \"3000\")]\n",
    "data6cylindersUSu3000.count()"
   ]
  },
  {
   "cell_type": "markdown",
   "id": "8a66caf0",
   "metadata": {},
   "source": [
    "## Data Visualization\n",
    "We can use `matplotlib` for visualization. It plots on to a set of Axes which are associated with a Figure. It will auto-plot onto the current set of Axes or create a new figure/set of default axes. This can be done by using `matplotlib.pyplot` package, which are usually called as `plt`. A subsequent `plt` calls will edit the same set of default-created aces. In addition, after the initial plot, `plt.gca()` will get the current set of axes. \n",
    "\n",
    "**Import packages.**"
   ]
  },
  {
   "cell_type": "code",
   "execution_count": 49,
   "id": "e2ea44fa",
   "metadata": {},
   "outputs": [],
   "source": [
    "import matplotlib.pyplot as plt"
   ]
  },
  {
   "cell_type": "markdown",
   "id": "ee0413fb",
   "metadata": {},
   "source": [
    "We are going to look at some sample plots."
   ]
  },
  {
   "cell_type": "code",
   "execution_count": 50,
   "id": "c0696548",
   "metadata": {},
   "outputs": [
    {
     "data": {
      "image/png": "[encoded data removed]",
      "text/plain": [
       "<Figure size 640x480 with 1 Axes>"
      ]
     },
     "metadata": {},
     "output_type": "display_data"
    }
   ],
   "source": [
    "# Plot using plt\n",
    "arr = np.arange(25)\n",
    "plt.plot(arr)\n",
    "plt.xlabel(\"Index\")\n",
    "plt.ylabel(\"Number\")\n",
    "plt.title(\"Sample Plot\")\n",
    "\n",
    "plt.show()"
   ]
  },
  {
   "cell_type": "code",
   "execution_count": 51,
   "id": "3f6a05ea",
   "metadata": {},
   "outputs": [
    {
     "data": {
      "image/png": "[encoded data removed]",
      "text/plain": [
       "<Figure size 640x480 with 1 Axes>"
      ]
     },
     "metadata": {},
     "output_type": "display_data"
    }
   ],
   "source": [
    "# Plot using axes\n",
    "plt.plot(arr)\n",
    "axes = plt.gca()\n",
    "axes.set_ylabel(\"Index (Axes)\")\n",
    "axes.set_xlabel(\"Number (Axes)\")\n",
    "axes.set_title(\"Sample Plot (Axes)\")\n",
    "\n",
    "plt.show()"
   ]
  },
  {
   "cell_type": "markdown",
   "id": "a69eca4f",
   "metadata": {},
   "source": [
    "---"
   ]
  },
  {
   "cell_type": "code",
   "execution_count": 52,
   "id": "7339e77b",
   "metadata": {},
   "outputs": [
    {
     "data": {
      "text/html": [
       "<div>\n",
       "<style scoped>\n",
       "    .dataframe tbody tr th:only-of-type {\n",
       "        vertical-align: middle;\n",
       "    }\n",
       "\n",
       "    .dataframe tbody tr th {\n",
       "        vertical-align: top;\n",
       "    }\n",
       "\n",
       "    .dataframe thead th {\n",
       "        text-align: right;\n",
       "    }\n",
       "</style>\n",
       "<table border=\"1\" class=\"dataframe\">\n",
       "  <thead>\n",
       "    <tr style=\"text-align: right;\">\n",
       "      <th></th>\n",
       "      <th>Car</th>\n",
       "      <th>MPG</th>\n",
       "      <th>Cylinders</th>\n",
       "      <th>Displacement</th>\n",
       "      <th>Horsepower</th>\n",
       "      <th>Weight</th>\n",
       "      <th>Acceleration</th>\n",
       "      <th>Model</th>\n",
       "      <th>Origin</th>\n",
       "    </tr>\n",
       "  </thead>\n",
       "  <tbody>\n",
       "    <tr>\n",
       "      <th>1</th>\n",
       "      <td>Chevrolet Chevelle Malibu</td>\n",
       "      <td>18.0</td>\n",
       "      <td>8</td>\n",
       "      <td>307.0</td>\n",
       "      <td>130.0</td>\n",
       "      <td>3504.</td>\n",
       "      <td>12.0</td>\n",
       "      <td>70</td>\n",
       "      <td>US</td>\n",
       "    </tr>\n",
       "    <tr>\n",
       "      <th>2</th>\n",
       "      <td>Buick Skylark 320</td>\n",
       "      <td>15.0</td>\n",
       "      <td>8</td>\n",
       "      <td>350.0</td>\n",
       "      <td>165.0</td>\n",
       "      <td>3693.</td>\n",
       "      <td>11.5</td>\n",
       "      <td>70</td>\n",
       "      <td>US</td>\n",
       "    </tr>\n",
       "    <tr>\n",
       "      <th>3</th>\n",
       "      <td>Plymouth Satellite</td>\n",
       "      <td>18.0</td>\n",
       "      <td>8</td>\n",
       "      <td>318.0</td>\n",
       "      <td>150.0</td>\n",
       "      <td>3436.</td>\n",
       "      <td>11.0</td>\n",
       "      <td>70</td>\n",
       "      <td>US</td>\n",
       "    </tr>\n",
       "    <tr>\n",
       "      <th>4</th>\n",
       "      <td>AMC Rebel SST</td>\n",
       "      <td>16.0</td>\n",
       "      <td>8</td>\n",
       "      <td>304.0</td>\n",
       "      <td>150.0</td>\n",
       "      <td>3433.</td>\n",
       "      <td>12.0</td>\n",
       "      <td>70</td>\n",
       "      <td>US</td>\n",
       "    </tr>\n",
       "    <tr>\n",
       "      <th>5</th>\n",
       "      <td>Ford Torino</td>\n",
       "      <td>17.0</td>\n",
       "      <td>8</td>\n",
       "      <td>302.0</td>\n",
       "      <td>140.0</td>\n",
       "      <td>3449.</td>\n",
       "      <td>10.5</td>\n",
       "      <td>70</td>\n",
       "      <td>US</td>\n",
       "    </tr>\n",
       "    <tr>\n",
       "      <th>...</th>\n",
       "      <td>...</td>\n",
       "      <td>...</td>\n",
       "      <td>...</td>\n",
       "      <td>...</td>\n",
       "      <td>...</td>\n",
       "      <td>...</td>\n",
       "      <td>...</td>\n",
       "      <td>...</td>\n",
       "      <td>...</td>\n",
       "    </tr>\n",
       "    <tr>\n",
       "      <th>402</th>\n",
       "      <td>Ford Mustang GL</td>\n",
       "      <td>27.0</td>\n",
       "      <td>4</td>\n",
       "      <td>140.0</td>\n",
       "      <td>86.00</td>\n",
       "      <td>2790.</td>\n",
       "      <td>15.6</td>\n",
       "      <td>82</td>\n",
       "      <td>US</td>\n",
       "    </tr>\n",
       "    <tr>\n",
       "      <th>403</th>\n",
       "      <td>Volkswagen Pickup</td>\n",
       "      <td>44.0</td>\n",
       "      <td>4</td>\n",
       "      <td>97.00</td>\n",
       "      <td>52.00</td>\n",
       "      <td>2130.</td>\n",
       "      <td>24.6</td>\n",
       "      <td>82</td>\n",
       "      <td>Europe</td>\n",
       "    </tr>\n",
       "    <tr>\n",
       "      <th>404</th>\n",
       "      <td>Dodge Rampage</td>\n",
       "      <td>32.0</td>\n",
       "      <td>4</td>\n",
       "      <td>135.0</td>\n",
       "      <td>84.00</td>\n",
       "      <td>2295.</td>\n",
       "      <td>11.6</td>\n",
       "      <td>82</td>\n",
       "      <td>US</td>\n",
       "    </tr>\n",
       "    <tr>\n",
       "      <th>405</th>\n",
       "      <td>Ford Ranger</td>\n",
       "      <td>28.0</td>\n",
       "      <td>4</td>\n",
       "      <td>120.0</td>\n",
       "      <td>79.00</td>\n",
       "      <td>2625.</td>\n",
       "      <td>18.6</td>\n",
       "      <td>82</td>\n",
       "      <td>US</td>\n",
       "    </tr>\n",
       "    <tr>\n",
       "      <th>406</th>\n",
       "      <td>Chevy S-10</td>\n",
       "      <td>31.0</td>\n",
       "      <td>4</td>\n",
       "      <td>119.0</td>\n",
       "      <td>82.00</td>\n",
       "      <td>2720.</td>\n",
       "      <td>19.4</td>\n",
       "      <td>82</td>\n",
       "      <td>US</td>\n",
       "    </tr>\n",
       "  </tbody>\n",
       "</table>\n",
       "<p>406 rows × 9 columns</p>\n",
       "</div>"
      ],
      "text/plain": [
       "                           Car   MPG Cylinders Displacement Horsepower Weight  \\\n",
       "1    Chevrolet Chevelle Malibu  18.0         8        307.0      130.0  3504.   \n",
       "2            Buick Skylark 320  15.0         8        350.0      165.0  3693.   \n",
       "3           Plymouth Satellite  18.0         8        318.0      150.0  3436.   \n",
       "4                AMC Rebel SST  16.0         8        304.0      150.0  3433.   \n",
       "5                  Ford Torino  17.0         8        302.0      140.0  3449.   \n",
       "..                         ...   ...       ...          ...        ...    ...   \n",
       "402            Ford Mustang GL  27.0         4        140.0      86.00  2790.   \n",
       "403          Volkswagen Pickup  44.0         4        97.00      52.00  2130.   \n",
       "404              Dodge Rampage  32.0         4        135.0      84.00  2295.   \n",
       "405                Ford Ranger  28.0         4        120.0      79.00  2625.   \n",
       "406                 Chevy S-10  31.0         4        119.0      82.00  2720.   \n",
       "\n",
       "    Acceleration Model  Origin  \n",
       "1           12.0    70      US  \n",
       "2           11.5    70      US  \n",
       "3           11.0    70      US  \n",
       "4           12.0    70      US  \n",
       "5           10.5    70      US  \n",
       "..           ...   ...     ...  \n",
       "402         15.6    82      US  \n",
       "403         24.6    82  Europe  \n",
       "404         11.6    82      US  \n",
       "405         18.6    82      US  \n",
       "406         19.4    82      US  \n",
       "\n",
       "[406 rows x 9 columns]"
      ]
     },
     "execution_count": 52,
     "metadata": {},
     "output_type": "execute_result"
    }
   ],
   "source": [
    "car_data = pd.read_csv('./cars.csv', delimiter = ';').tail(-1)\n",
    "car_data"
   ]
  },
  {
   "cell_type": "markdown",
   "id": "7e7a81f5",
   "metadata": {},
   "source": [
    "**Q1. Create a graph with the `Horsepower` on the x-axis and `Acceleration` on the y-axis.** *(If there are too many ticks, cast your data as `float` using `np.asarray()`. )* "
   ]
  },
  {
   "cell_type": "code",
   "execution_count": 53,
   "id": "d5bc65be",
   "metadata": {},
   "outputs": [
    {
     "data": {
      "image/png": "[encoded data removed]",
      "text/plain": [
       "<Figure size 640x480 with 1 Axes>"
      ]
     },
     "metadata": {},
     "output_type": "display_data"
    }
   ],
   "source": [
    "plt.scatter(np.asarray(car_data['Horsepower'], dtype = float), np.asarray(car_data['Acceleration'], dtype = float))\n",
    "plt.show()"
   ]
  },
  {
   "cell_type": "markdown",
   "id": "22e775ff",
   "metadata": {},
   "source": [
    "Your graph should look something like this: \n",
    "\n",
    "![Q1 Image](https://cdn.discordapp.com/attachments/564268123545403394/1070609023419826206/image.png)"
   ]
  },
  {
   "cell_type": "markdown",
   "id": "066341a1",
   "metadata": {},
   "source": [
    "**Q2.Create a histogram based on the values of the column `Cylinders`.**"
   ]
  },
  {
   "cell_type": "code",
   "execution_count": 54,
   "id": "e762e2b3",
   "metadata": {},
   "outputs": [
    {
     "data": {
      "image/png": "[encoded data removed]",
      "text/plain": [
       "<Figure size 640x480 with 1 Axes>"
      ]
     },
     "metadata": {},
     "output_type": "display_data"
    }
   ],
   "source": [
    "x = np.asarray(car_data['Cylinders'], dtype = float)\n",
    "\n",
    "plt.hist(x)\n",
    "plt.show() "
   ]
  },
  {
   "attachments": {
    "image.png": {
     "image/png": "[encoded data removed]"
    }
   },
   "cell_type": "markdown",
   "id": "b11806a8",
   "metadata": {},
   "source": [
    "Again, your graph should look something like this:\n",
    "\n",
    "![Q2 Image](attachment:image.png)"
   ]
  },
  {
   "cell_type": "markdown",
   "id": "a008a4ea",
   "metadata": {},
   "source": [
    "**Q3. Create a graph with the `Weight` on the x-axis and `Acceleration` on the y-axis.**"
   ]
  },
  {
   "cell_type": "code",
   "execution_count": 55,
   "id": "1ac1fa00",
   "metadata": {},
   "outputs": [
    {
     "data": {
      "image/png": "[encoded data removed]",
      "text/plain": [
       "<Figure size 640x480 with 1 Axes>"
      ]
     },
     "metadata": {},
     "output_type": "display_data"
    }
   ],
   "source": [
    "plt.scatter(np.asarray(car_data['Weight'], dtype = float), np.asarray(car_data['Acceleration'], dtype = float))\n",
    "plt.show()"
   ]
  },
  {
   "cell_type": "markdown",
   "id": "0a3733e4",
   "metadata": {},
   "source": [
    "Your graph should look like this: \n",
    "\n",
    "![Q3 Image](https://cdn.discordapp.com/attachments/564268123545403394/1070609271747772446/image.png)"
   ]
  },
  {
   "cell_type": "markdown",
   "id": "492b044e",
   "metadata": {},
   "source": [
    "## Using YFinance Data"
   ]
  },
  {
   "cell_type": "markdown",
   "id": "3832402c",
   "metadata": {},
   "source": [
    "Now, let's explore stock data using `yfinance`."
   ]
  },
  {
   "cell_type": "markdown",
   "id": "cfdf55b2",
   "metadata": {},
   "source": [
    "**Q1.Import `yfinance` and get the S&P 500, APPL, MSFT, and GOOG data. The granularity should be minute level data for the past 30 days.**"
   ]
  },
  {
   "cell_type": "code",
   "execution_count": 56,
   "id": "7cf70ffa",
   "metadata": {},
   "outputs": [
    {
     "name": "stdout",
     "output_type": "stream",
     "text": [
      "Requirement already satisfied: yfinance in /Users/work/opt/anaconda3/lib/python3.9/site-packages (0.2.9)\n",
      "Requirement already satisfied: cryptography>=3.3.2 in /Users/work/opt/anaconda3/lib/python3.9/site-packages (from yfinance) (37.0.1)\n",
      "Requirement already satisfied: numpy>=1.16.5 in /Users/work/opt/anaconda3/lib/python3.9/site-packages (from yfinance) (1.21.5)\n",
      "Requirement already satisfied: pandas>=1.3.0 in /Users/work/opt/anaconda3/lib/python3.9/site-packages (from yfinance) (1.4.4)\n",
      "Requirement already satisfied: beautifulsoup4>=4.11.1 in /Users/work/opt/anaconda3/lib/python3.9/site-packages (from yfinance) (4.11.1)\n",
      "Requirement already satisfied: multitasking>=0.0.7 in /Users/work/opt/anaconda3/lib/python3.9/site-packages (from yfinance) (0.0.11)\n",
      "Requirement already satisfied: appdirs>=1.4.4 in /Users/work/opt/anaconda3/lib/python3.9/site-packages (from yfinance) (1.4.4)\n",
      "Requirement already satisfied: html5lib>=1.1 in /Users/work/opt/anaconda3/lib/python3.9/site-packages (from yfinance) (1.1)\n",
      "Requirement already satisfied: lxml>=4.9.1 in /Users/work/opt/anaconda3/lib/python3.9/site-packages (from yfinance) (4.9.1)\n",
      "Requirement already satisfied: requests>=2.26 in /Users/work/opt/anaconda3/lib/python3.9/site-packages (from yfinance) (2.28.1)\n",
      "Requirement already satisfied: frozendict>=2.3.4 in /Users/work/opt/anaconda3/lib/python3.9/site-packages (from yfinance) (2.3.4)\n",
      "Requirement already satisfied: pytz>=2022.5 in /Users/work/opt/anaconda3/lib/python3.9/site-packages (from yfinance) (2022.7.1)\n",
      "Requirement already satisfied: soupsieve>1.2 in /Users/work/opt/anaconda3/lib/python3.9/site-packages (from beautifulsoup4>=4.11.1->yfinance) (2.3.1)\n",
      "Requirement already satisfied: cffi>=1.12 in /Users/work/opt/anaconda3/lib/python3.9/site-packages (from cryptography>=3.3.2->yfinance) (1.15.1)\n",
      "Requirement already satisfied: webencodings in /Users/work/opt/anaconda3/lib/python3.9/site-packages (from html5lib>=1.1->yfinance) (0.5.1)\n",
      "Requirement already satisfied: six>=1.9 in /Users/work/opt/anaconda3/lib/python3.9/site-packages (from html5lib>=1.1->yfinance) (1.16.0)\n",
      "Requirement already satisfied: python-dateutil>=2.8.1 in /Users/work/opt/anaconda3/lib/python3.9/site-packages (from pandas>=1.3.0->yfinance) (2.8.2)\n",
      "Requirement already satisfied: certifi>=2017.4.17 in /Users/work/opt/anaconda3/lib/python3.9/site-packages (from requests>=2.26->yfinance) (2022.9.24)\n",
      "Requirement already satisfied: idna<4,>=2.5 in /Users/work/opt/anaconda3/lib/python3.9/site-packages (from requests>=2.26->yfinance) (3.3)\n",
      "Requirement already satisfied: urllib3<1.27,>=1.21.1 in /Users/work/opt/anaconda3/lib/python3.9/site-packages (from requests>=2.26->yfinance) (1.26.11)\n",
      "Requirement already satisfied: charset-normalizer<3,>=2 in /Users/work/opt/anaconda3/lib/python3.9/site-packages (from requests>=2.26->yfinance) (2.0.4)\n",
      "Requirement already satisfied: pycparser in /Users/work/opt/anaconda3/lib/python3.9/site-packages (from cffi>=1.12->cryptography>=3.3.2->yfinance) (2.21)\n"
     ]
    }
   ],
   "source": [
    "!pip install yfinance\n",
    "import yfinance as yf"
   ]
  },
  {
   "cell_type": "code",
   "execution_count": 67,
   "id": "a4db141a",
   "metadata": {},
   "outputs": [
    {
     "name": "stdout",
     "output_type": "stream",
     "text": [
      "[*********************100%***********************]  4 of 4 completed\n"
     ]
    },
    {
     "data": {
      "text/html": [
       "<div>\n",
       "<style scoped>\n",
       "    .dataframe tbody tr th:only-of-type {\n",
       "        vertical-align: middle;\n",
       "    }\n",
       "\n",
       "    .dataframe tbody tr th {\n",
       "        vertical-align: top;\n",
       "    }\n",
       "\n",
       "    .dataframe thead tr th {\n",
       "        text-align: left;\n",
       "    }\n",
       "\n",
       "    .dataframe thead tr:last-of-type th {\n",
       "        text-align: right;\n",
       "    }\n",
       "</style>\n",
       "<table border=\"1\" class=\"dataframe\">\n",
       "  <thead>\n",
       "    <tr>\n",
       "      <th></th>\n",
       "      <th colspan=\"4\" halign=\"left\">Adj Close</th>\n",
       "      <th colspan=\"4\" halign=\"left\">Close</th>\n",
       "      <th colspan=\"2\" halign=\"left\">High</th>\n",
       "      <th>...</th>\n",
       "      <th colspan=\"2\" halign=\"left\">Low</th>\n",
       "      <th colspan=\"4\" halign=\"left\">Open</th>\n",
       "      <th colspan=\"4\" halign=\"left\">Volume</th>\n",
       "    </tr>\n",
       "    <tr>\n",
       "      <th></th>\n",
       "      <th>AAPL</th>\n",
       "      <th>GOOG</th>\n",
       "      <th>MSFT</th>\n",
       "      <th>^GSPC</th>\n",
       "      <th>AAPL</th>\n",
       "      <th>GOOG</th>\n",
       "      <th>MSFT</th>\n",
       "      <th>^GSPC</th>\n",
       "      <th>AAPL</th>\n",
       "      <th>GOOG</th>\n",
       "      <th>...</th>\n",
       "      <th>MSFT</th>\n",
       "      <th>^GSPC</th>\n",
       "      <th>AAPL</th>\n",
       "      <th>GOOG</th>\n",
       "      <th>MSFT</th>\n",
       "      <th>^GSPC</th>\n",
       "      <th>AAPL</th>\n",
       "      <th>GOOG</th>\n",
       "      <th>MSFT</th>\n",
       "      <th>^GSPC</th>\n",
       "    </tr>\n",
       "    <tr>\n",
       "      <th>Datetime</th>\n",
       "      <th></th>\n",
       "      <th></th>\n",
       "      <th></th>\n",
       "      <th></th>\n",
       "      <th></th>\n",
       "      <th></th>\n",
       "      <th></th>\n",
       "      <th></th>\n",
       "      <th></th>\n",
       "      <th></th>\n",
       "      <th></th>\n",
       "      <th></th>\n",
       "      <th></th>\n",
       "      <th></th>\n",
       "      <th></th>\n",
       "      <th></th>\n",
       "      <th></th>\n",
       "      <th></th>\n",
       "      <th></th>\n",
       "      <th></th>\n",
       "      <th></th>\n",
       "    </tr>\n",
       "  </thead>\n",
       "  <tbody>\n",
       "    <tr>\n",
       "      <th>2023-02-10 15:52:00-05:00</th>\n",
       "      <td>151.059998</td>\n",
       "      <td>94.879997</td>\n",
       "      <td>263.345001</td>\n",
       "      <td>4093.840088</td>\n",
       "      <td>151.059998</td>\n",
       "      <td>94.879997</td>\n",
       "      <td>263.345001</td>\n",
       "      <td>4093.840088</td>\n",
       "      <td>151.085007</td>\n",
       "      <td>94.919998</td>\n",
       "      <td>...</td>\n",
       "      <td>262.850006</td>\n",
       "      <td>4087.979980</td>\n",
       "      <td>150.810104</td>\n",
       "      <td>94.709999</td>\n",
       "      <td>262.885010</td>\n",
       "      <td>4087.979980</td>\n",
       "      <td>426180.0</td>\n",
       "      <td>476107.0</td>\n",
       "      <td>204458.0</td>\n",
       "      <td>27560000.0</td>\n",
       "    </tr>\n",
       "    <tr>\n",
       "      <th>2023-02-10 15:54:00-05:00</th>\n",
       "      <td>151.029999</td>\n",
       "      <td>94.889999</td>\n",
       "      <td>263.071808</td>\n",
       "      <td>4091.709961</td>\n",
       "      <td>151.029999</td>\n",
       "      <td>94.889999</td>\n",
       "      <td>263.071808</td>\n",
       "      <td>4091.709961</td>\n",
       "      <td>151.129898</td>\n",
       "      <td>95.010002</td>\n",
       "      <td>...</td>\n",
       "      <td>263.049988</td>\n",
       "      <td>4091.709961</td>\n",
       "      <td>151.059998</td>\n",
       "      <td>94.879997</td>\n",
       "      <td>263.329987</td>\n",
       "      <td>4093.840088</td>\n",
       "      <td>564237.0</td>\n",
       "      <td>549074.0</td>\n",
       "      <td>279230.0</td>\n",
       "      <td>35155000.0</td>\n",
       "    </tr>\n",
       "    <tr>\n",
       "      <th>2023-02-10 15:56:00-05:00</th>\n",
       "      <td>151.104996</td>\n",
       "      <td>94.860001</td>\n",
       "      <td>263.379913</td>\n",
       "      <td>4091.840088</td>\n",
       "      <td>151.104996</td>\n",
       "      <td>94.860001</td>\n",
       "      <td>263.379913</td>\n",
       "      <td>4091.840088</td>\n",
       "      <td>151.109894</td>\n",
       "      <td>94.919998</td>\n",
       "      <td>...</td>\n",
       "      <td>262.760010</td>\n",
       "      <td>4089.060059</td>\n",
       "      <td>151.020004</td>\n",
       "      <td>94.900002</td>\n",
       "      <td>263.070007</td>\n",
       "      <td>4091.520020</td>\n",
       "      <td>617208.0</td>\n",
       "      <td>580933.0</td>\n",
       "      <td>389945.0</td>\n",
       "      <td>39370000.0</td>\n",
       "    </tr>\n",
       "    <tr>\n",
       "      <th>2023-02-10 15:58:00-05:00</th>\n",
       "      <td>151.020004</td>\n",
       "      <td>94.849998</td>\n",
       "      <td>263.100006</td>\n",
       "      <td>4090.489990</td>\n",
       "      <td>151.020004</td>\n",
       "      <td>94.849998</td>\n",
       "      <td>263.100006</td>\n",
       "      <td>4090.489990</td>\n",
       "      <td>151.154999</td>\n",
       "      <td>94.910004</td>\n",
       "      <td>...</td>\n",
       "      <td>262.959991</td>\n",
       "      <td>4089.629883</td>\n",
       "      <td>151.104996</td>\n",
       "      <td>94.864998</td>\n",
       "      <td>263.375000</td>\n",
       "      <td>4091.840088</td>\n",
       "      <td>878259.0</td>\n",
       "      <td>1029468.0</td>\n",
       "      <td>575769.0</td>\n",
       "      <td>72570000.0</td>\n",
       "    </tr>\n",
       "    <tr>\n",
       "      <th>2023-02-10 16:00:00-05:00</th>\n",
       "      <td>151.009995</td>\n",
       "      <td>94.860001</td>\n",
       "      <td>263.100006</td>\n",
       "      <td>4090.459961</td>\n",
       "      <td>151.009995</td>\n",
       "      <td>94.860001</td>\n",
       "      <td>263.100006</td>\n",
       "      <td>4090.459961</td>\n",
       "      <td>151.009995</td>\n",
       "      <td>94.860001</td>\n",
       "      <td>...</td>\n",
       "      <td>263.100006</td>\n",
       "      <td>4090.459961</td>\n",
       "      <td>151.009995</td>\n",
       "      <td>94.860001</td>\n",
       "      <td>263.100006</td>\n",
       "      <td>4090.459961</td>\n",
       "      <td>0.0</td>\n",
       "      <td>0.0</td>\n",
       "      <td>0.0</td>\n",
       "      <td>0.0</td>\n",
       "    </tr>\n",
       "  </tbody>\n",
       "</table>\n",
       "<p>5 rows × 24 columns</p>\n",
       "</div>"
      ],
      "text/plain": [
       "                            Adj Close                                      \\\n",
       "                                 AAPL       GOOG        MSFT        ^GSPC   \n",
       "Datetime                                                                    \n",
       "2023-02-10 15:52:00-05:00  151.059998  94.879997  263.345001  4093.840088   \n",
       "2023-02-10 15:54:00-05:00  151.029999  94.889999  263.071808  4091.709961   \n",
       "2023-02-10 15:56:00-05:00  151.104996  94.860001  263.379913  4091.840088   \n",
       "2023-02-10 15:58:00-05:00  151.020004  94.849998  263.100006  4090.489990   \n",
       "2023-02-10 16:00:00-05:00  151.009995  94.860001  263.100006  4090.459961   \n",
       "\n",
       "                                Close                                      \\\n",
       "                                 AAPL       GOOG        MSFT        ^GSPC   \n",
       "Datetime                                                                    \n",
       "2023-02-10 15:52:00-05:00  151.059998  94.879997  263.345001  4093.840088   \n",
       "2023-02-10 15:54:00-05:00  151.029999  94.889999  263.071808  4091.709961   \n",
       "2023-02-10 15:56:00-05:00  151.104996  94.860001  263.379913  4091.840088   \n",
       "2023-02-10 15:58:00-05:00  151.020004  94.849998  263.100006  4090.489990   \n",
       "2023-02-10 16:00:00-05:00  151.009995  94.860001  263.100006  4090.459961   \n",
       "\n",
       "                                 High             ...         Low  \\\n",
       "                                 AAPL       GOOG  ...        MSFT   \n",
       "Datetime                                          ...               \n",
       "2023-02-10 15:52:00-05:00  151.085007  94.919998  ...  262.850006   \n",
       "2023-02-10 15:54:00-05:00  151.129898  95.010002  ...  263.049988   \n",
       "2023-02-10 15:56:00-05:00  151.109894  94.919998  ...  262.760010   \n",
       "2023-02-10 15:58:00-05:00  151.154999  94.910004  ...  262.959991   \n",
       "2023-02-10 16:00:00-05:00  151.009995  94.860001  ...  263.100006   \n",
       "\n",
       "                                              Open                         \\\n",
       "                                 ^GSPC        AAPL       GOOG        MSFT   \n",
       "Datetime                                                                    \n",
       "2023-02-10 15:52:00-05:00  4087.979980  150.810104  94.709999  262.885010   \n",
       "2023-02-10 15:54:00-05:00  4091.709961  151.059998  94.879997  263.329987   \n",
       "2023-02-10 15:56:00-05:00  4089.060059  151.020004  94.900002  263.070007   \n",
       "2023-02-10 15:58:00-05:00  4089.629883  151.104996  94.864998  263.375000   \n",
       "2023-02-10 16:00:00-05:00  4090.459961  151.009995  94.860001  263.100006   \n",
       "\n",
       "                                          Volume                       \\\n",
       "                                 ^GSPC      AAPL       GOOG      MSFT   \n",
       "Datetime                                                                \n",
       "2023-02-10 15:52:00-05:00  4087.979980  426180.0   476107.0  204458.0   \n",
       "2023-02-10 15:54:00-05:00  4093.840088  564237.0   549074.0  279230.0   \n",
       "2023-02-10 15:56:00-05:00  4091.520020  617208.0   580933.0  389945.0   \n",
       "2023-02-10 15:58:00-05:00  4091.840088  878259.0  1029468.0  575769.0   \n",
       "2023-02-10 16:00:00-05:00  4090.459961       0.0        0.0       0.0   \n",
       "\n",
       "                                       \n",
       "                                ^GSPC  \n",
       "Datetime                               \n",
       "2023-02-10 15:52:00-05:00  27560000.0  \n",
       "2023-02-10 15:54:00-05:00  35155000.0  \n",
       "2023-02-10 15:56:00-05:00  39370000.0  \n",
       "2023-02-10 15:58:00-05:00  72570000.0  \n",
       "2023-02-10 16:00:00-05:00         0.0  \n",
       "\n",
       "[5 rows x 24 columns]"
      ]
     },
     "execution_count": 67,
     "metadata": {},
     "output_type": "execute_result"
    }
   ],
   "source": [
    "tickers = [\"^GSPC\", \"AAPL\", \"MSFT\", \"GOOG\"]\n",
    "data30d = yf.download(tickers, interval='2m', period='30d')\n",
    "data30d.tail()"
   ]
  },
  {
   "cell_type": "markdown",
   "id": "5a31a951",
   "metadata": {},
   "source": [
    "**Q2.Now, try plotting the price of S&P 500 for the past 30 days.**"
   ]
  },
  {
   "cell_type": "code",
   "execution_count": 73,
   "id": "ff20c95f",
   "metadata": {},
   "outputs": [
    {
     "data": {
      "image/png": "[encoded data removed]",
      "text/plain": [
       "<Figure size 640x480 with 1 Axes>"
      ]
     },
     "metadata": {},
     "output_type": "display_data"
    }
   ],
   "source": [
    "var1 = np.array(data30d[\"Close\"])\n",
    "y = var1[:, 3]\n",
    "x = data30d.index\n",
    "\n",
    "plt.plot(x, y)\n",
    "plt.show()"
   ]
  },
  {
   "cell_type": "markdown",
   "id": "a602cc37",
   "metadata": {},
   "source": [
    "Note down any observations in this cell:"
   ]
  },
  {
   "cell_type": "markdown",
   "id": "ca0a9898",
   "metadata": {},
   "source": []
  },
  {
   "cell_type": "markdown",
   "id": "bb145d07",
   "metadata": {},
   "source": [
    "**Q3.Now, plot the returns (a.k.a percent change) of S&P 500 for the past 30 days.**"
   ]
  },
  {
   "cell_type": "code",
   "execution_count": 114,
   "id": "651bb083",
   "metadata": {},
   "outputs": [
    {
     "data": {
      "image/png": "[encoded data removed]",
      "text/plain": [
       "<Figure size 640x480 with 1 Axes>"
      ]
     },
     "metadata": {},
     "output_type": "display_data"
    }
   ],
   "source": [
    "var1 = np.array(data30d[\"Close\"])\n",
    "dp = var1[:, 3]\n",
    "i = 1\n",
    "returnssnp = np.array([])\n",
    "while i < len(dp):\n",
    "    returnssnp = np.append(((dp[i] / dp[i - 1]) - 1)*100, returnssnp)\n",
    "    i += 1\n",
    "y1 = returnssnp\n",
    "x1 = data30d.index[:-1]\n",
    "\n",
    "plt.plot(x1, y1)\n",
    "plt.show()"
   ]
  },
  {
   "cell_type": "markdown",
   "id": "5d9c46e4",
   "metadata": {},
   "source": [
    "**Q4.Plot the returns of APPL, MSFT, GOOG as well.**"
   ]
  },
  {
   "cell_type": "code",
   "execution_count": 115,
   "id": "3c5dffe0",
   "metadata": {
    "scrolled": true
   },
   "outputs": [
    {
     "data": {
      "image/png": "[encoded data removed]",
      "text/plain": [
       "<Figure size 640x480 with 1 Axes>"
      ]
     },
     "metadata": {},
     "output_type": "display_data"
    },
    {
     "data": {
      "image/png": "[encoded data removed]",
      "text/plain": [
       "<Figure size 640x480 with 1 Axes>"
      ]
     },
     "metadata": {},
     "output_type": "display_data"
    },
    {
     "data": {
      "image/png": "[encoded data removed]",
      "text/plain": [
       "<Figure size 640x480 with 1 Axes>"
      ]
     },
     "metadata": {},
     "output_type": "display_data"
    }
   ],
   "source": [
    "#MSFT\n",
    "var1 = np.array(data30d[\"Close\"])\n",
    "dp = var1[:, 2]\n",
    "i = 1\n",
    "returnsmsft = np.array([])\n",
    "while i < len(dp):\n",
    "    returnsmsft = np.append(((dp[i] / dp[i - 1]) - 1)*100, returnsmsft)\n",
    "    i += 1\n",
    "y2 = returnsmsft\n",
    "x2 = data30d.index[:-1]\n",
    "\n",
    "plt.plot(x2, y2)\n",
    "plt.show()\n",
    "\n",
    "#GOOG\n",
    "var1 = np.array(data30d[\"Close\"])\n",
    "dp = var1[:, 1]\n",
    "i = 1\n",
    "returnsgoog = np.array([])\n",
    "while i < len(dp):\n",
    "    returnsgoog = np.append(((dp[i] / dp[i - 1]) - 1)*100, returnsgoog)\n",
    "    i += 1\n",
    "y3 = returnsgoog\n",
    "x3 = data30d.index[:-1]\n",
    "\n",
    "plt.plot(x3, y3)\n",
    "plt.show()\n",
    "\n",
    "#AAPL\n",
    "var1 = np.array(data30d[\"Close\"])\n",
    "dp = var1[:, 0]\n",
    "i = 1\n",
    "returnsaapl = np.array([])\n",
    "while i < len(dp):\n",
    "    returnsaapl = np.append(((dp[i] / dp[i - 1]) - 1)*100, returnsaapl)\n",
    "    i += 1\n",
    "y4 = returnsaapl\n",
    "x4 = data30d.index[:-1]\n",
    "\n",
    "plt.plot(x4, y4)\n",
    "plt.show()"
   ]
  },
  {
   "cell_type": "markdown",
   "id": "b345c086",
   "metadata": {},
   "source": [
    "**Q5.Run seaborn.pairplot on the returns of SPY, APPL, MSFT, and GOOG. (You have to import the package)**"
   ]
  },
  {
   "cell_type": "code",
   "execution_count": 120,
   "id": "f2e035e6",
   "metadata": {},
   "outputs": [
    {
     "name": "stdout",
     "output_type": "stream",
     "text": [
      "Requirement already satisfied: seaborn in /Users/work/opt/anaconda3/lib/python3.9/site-packages (0.11.2)\n",
      "Requirement already satisfied: numpy>=1.15 in /Users/work/opt/anaconda3/lib/python3.9/site-packages (from seaborn) (1.21.5)\n",
      "Requirement already satisfied: matplotlib>=2.2 in /Users/work/opt/anaconda3/lib/python3.9/site-packages (from seaborn) (3.5.2)\n",
      "Requirement already satisfied: pandas>=0.23 in /Users/work/opt/anaconda3/lib/python3.9/site-packages (from seaborn) (1.4.4)\n",
      "Requirement already satisfied: scipy>=1.0 in /Users/work/opt/anaconda3/lib/python3.9/site-packages (from seaborn) (1.9.1)\n",
      "Requirement already satisfied: cycler>=0.10 in /Users/work/opt/anaconda3/lib/python3.9/site-packages (from matplotlib>=2.2->seaborn) (0.11.0)\n",
      "Requirement already satisfied: pillow>=6.2.0 in /Users/work/opt/anaconda3/lib/python3.9/site-packages (from matplotlib>=2.2->seaborn) (9.2.0)\n",
      "Requirement already satisfied: pyparsing>=2.2.1 in /Users/work/opt/anaconda3/lib/python3.9/site-packages (from matplotlib>=2.2->seaborn) (3.0.9)\n",
      "Requirement already satisfied: kiwisolver>=1.0.1 in /Users/work/opt/anaconda3/lib/python3.9/site-packages (from matplotlib>=2.2->seaborn) (1.4.2)\n",
      "Requirement already satisfied: packaging>=20.0 in /Users/work/opt/anaconda3/lib/python3.9/site-packages (from matplotlib>=2.2->seaborn) (21.3)\n",
      "Requirement already satisfied: fonttools>=4.22.0 in /Users/work/opt/anaconda3/lib/python3.9/site-packages (from matplotlib>=2.2->seaborn) (4.25.0)\n",
      "Requirement already satisfied: python-dateutil>=2.7 in /Users/work/opt/anaconda3/lib/python3.9/site-packages (from matplotlib>=2.2->seaborn) (2.8.2)\n",
      "Requirement already satisfied: pytz>=2020.1 in /Users/work/opt/anaconda3/lib/python3.9/site-packages (from pandas>=0.23->seaborn) (2022.7.1)\n",
      "Requirement already satisfied: six>=1.5 in /Users/work/opt/anaconda3/lib/python3.9/site-packages (from python-dateutil>=2.7->matplotlib>=2.2->seaborn) (1.16.0)\n"
     ]
    },
    {
     "data": {
      "image/png": "[encoded data removed]",
      "text/plain": [
       "<Figure size 1000x1000 with 20 Axes>"
      ]
     },
     "metadata": {},
     "output_type": "display_data"
    }
   ],
   "source": [
    "!pip install seaborn\n",
    "import seaborn as sns\n",
    "\n",
    "x = data30d.index[:-1]\n",
    "data = pd.DataFrame({\n",
    "    'S&P': y1, \n",
    "    'MSFT': y2, \n",
    "    'GOOG': y3, \n",
    "    'AAPL': y4\n",
    "})\n",
    "\n",
    "sns.pairplot(data)\n",
    "\n",
    "plt.show()"
   ]
  },
  {
   "cell_type": "markdown",
   "id": "02c7cdfb",
   "metadata": {},
   "source": [
    "**Q6.Print the correlations across those 4.**"
   ]
  },
  {
   "cell_type": "code",
   "execution_count": 121,
   "id": "e40699c1",
   "metadata": {},
   "outputs": [
    {
     "name": "stdout",
     "output_type": "stream",
     "text": [
      "           S&P      MSFT      GOOG      AAPL\n",
      "S&P   1.000000  0.687974  0.668269  0.805440\n",
      "MSFT  0.687974  1.000000  0.505144  0.594594\n",
      "GOOG  0.668269  0.505144  1.000000  0.563345\n",
      "AAPL  0.805440  0.594594  0.563345  1.000000\n"
     ]
    }
   ],
   "source": [
    "correlation_matrix = data.corr()\n",
    "print(correlation_matrix)"
   ]
  },
  {
   "cell_type": "markdown",
   "id": "746be415",
   "metadata": {},
   "source": [
    "Now we have learned a lot of stocks are very correlated to the market at large!"
   ]
  },
  {
   "cell_type": "markdown",
   "id": "c61800fa",
   "metadata": {},
   "source": [
    "## Submission"
   ]
  },
  {
   "cell_type": "markdown",
   "id": "2c0560ec",
   "metadata": {},
   "source": [
    "Submit your code to github under the \"[Coding HW] Homework 0\" Assignment. This homework is due February 12th by Midnight."
   ]
  }
 ],
 "metadata": {
  "kernelspec": {
   "display_name": "Python 3 (ipykernel)",
   "language": "python",
   "name": "python3"
  },
  "language_info": {
   "codemirror_mode": {
    "name": "ipython",
    "version": 3
   },
   "file_extension": ".py",
   "mimetype": "text/x-python",
   "name": "python",
   "nbconvert_exporter": "python",
   "pygments_lexer": "ipython3",
   "version": "3.9.13"
  },
  "vscode": {
   "interpreter": {
    "hash": "31f2aee4e71d21fbe5cf8b01ff0e069b9275f58929596ceb00d14d90e3e16cd6"
   }
  }
 },
 "nbformat": 4,
 "nbformat_minor": 5
}
